{
 "cells": [
  {
   "cell_type": "code",
   "execution_count": 51,
   "metadata": {},
   "outputs": [],
   "source": [
    "import json\n",
    "from typing import Sequence, List, Dict\n",
    "from llama_index.llms.openai import OpenAI\n",
    "from llama_index.core import SimpleDirectoryReader, get_response_synthesizer\n",
    "from llama_index.core import DocumentSummaryIndex\n",
    "from llama_index.llms.openai import OpenAI\n",
    "from llama_index.core.node_parser import SentenceSplitter\n",
    "import openai\n",
    "import requests\n",
    "from bs4 import BeautifulSoup\n",
    "from datetime import datetime\n",
    "import os\n",
    "import nest_asyncio\n",
    "from dotenv import load_dotenv"
   ]
  },
  {
   "cell_type": "code",
   "execution_count": 52,
   "metadata": {},
   "outputs": [],
   "source": [
    "from chatcompletion import llm\n",
    "from openai import OpenAI\n",
    "from dotenv import load_dotenv\n",
    "import os\n",
    "import json\n",
    "\n",
    "load_dotenv()\n",
    "client = OpenAI(api_key=os.environ.get('OPENAI_API_KEY'))"
   ]
  },
  {
   "cell_type": "code",
   "execution_count": 53,
   "metadata": {},
   "outputs": [],
   "source": [
    "system_message = \"\"\"You are a text analyst responsible for analyzing the summary of a research article and responsible for finding relationship between keywords.\n",
    "    The main aim is to derive new key ideas/discoveries from the provided research reviews for key related terms.\n",
    "    Analyse the full text very carefully since some relationships can be found from differnt article and in that case they should have one  main topic.\n",
    "    To plot the graph using a table format, you can structure the data in a way that lists each connection between a main key words and its subtopics. \n",
    "    This table should have two columns: one for the \"Main Topic\" and another for the \"Subtopic\". Each row will represent an edge (connection) in the graph.\n",
    "    Please make sure the entry names are short but very clear and understandable and also make sure the nodes are very important for research discoveries and analysis.\n",
    "    Please make sure the final JSON can be read by pandas and must be enclosed with [ ].\n",
    "    Please make sure the final output is JSON with column names, \"Main Topic\" and \"Subtopic\".\n",
    "    \"\"\"\n",
    "\n",
    "with open(\"summaries.txt\", \"r\") as file:\n",
    "    infomat = file.read()"
   ]
  },
  {
   "cell_type": "code",
   "execution_count": 54,
   "metadata": {},
   "outputs": [],
   "source": [
    "completion = client.chat.completions.create(\n",
    "  model=\"gpt-4o\",\n",
    "  messages=[\n",
    "    {\"role\": \"system\", \"content\": f\"\"\" {system_message}\"\"\"},\n",
    "    {\"role\": \"user\", \"content\": f\"\"\" {infomat}\"\"\"}\n",
    "  ]\n",
    ")"
   ]
  },
  {
   "cell_type": "code",
   "execution_count": 55,
   "metadata": {},
   "outputs": [
    {
     "name": "stdout",
     "output_type": "stream",
     "text": [
      "```json\n",
      "[\n",
      "  {\"Main Topic\": \"Brain Metastasis\", \"Subtopic\": \"Overall Survival\"},\n",
      "  {\"Main Topic\": \"Brain Metastasis\", \"Subtopic\": \"Local Control\"},\n",
      "  {\"Main Topic\": \"Brain Metastasis\", \"Subtopic\": \"Distant Brain Control\"},\n",
      "  {\"Main Topic\": \"Radiotherapy\", \"Subtopic\": \"WBRT vs Stereotactic\"},\n",
      "  {\"Main Topic\": \"Radiotherapy\", \"Subtopic\": \"Postoperative Targeted Radiotherapy\"},\n",
      "  {\"Main Topic\": \"Left-sided Breast Cancer\", \"Subtopic\": \"DIBH Benefits\"},\n",
      "  {\"Main Topic\": \"DIBH\", \"Subtopic\": \"Heart and Lung Dose Reduction\"},\n",
      "  {\"Main Topic\": \"DIBH\", \"Subtopic\": \"Cardiac Substructures\"},\n",
      "  {\"Main Topic\": \"Dosimetry\", \"Subtopic\": \"MLC Adjustment\"},\n",
      "  {\"Main Topic\": \"PDIP-AAA\", \"Subtopic\": \"Treatment Plan Accuracy\"},\n",
      "  {\"Main Topic\": \"PDIP-AAA\", \"Subtopic\": \"Gamma Passing Rates\"},\n",
      "  {\"Main Topic\": \"NSCLC\", \"Subtopic\": \"Atezolizumab and Varlilumab\"},\n",
      "  {\"Main Topic\": \"NSCLC\", \"Subtopic\": \"Palliative Radiation\"},\n",
      "  {\"Main Topic\": \"TASK-3 Channel\", \"Subtopic\": \"Anesthetics\"},\n",
      "  {\"Main Topic\": \"TASK-3 Channel\", \"Subtopic\": \"Ovarian Cancer\"},\n",
      "  {\"Main Topic\": \"HRQoL\", \"Subtopic\": \"Rectal Cancer Treatment\"},\n",
      "  {\"Main Topic\": \"HRQoL\", \"Subtopic\": \"Psychosocial Factors\"},\n",
      "  {\"Main Topic\": \"TyG Index\", \"Subtopic\": \"Mortality in ICU\"},\n",
      "  {\"Main Topic\": \"TyG Index\", \"Subtopic\": \"Insulin Resistance\"},\n",
      "  {\"Main Topic\": \"Radiomics\", \"Subtopic\": \"HER2-low vs HER2-positive BC\"},\n",
      "  {\"Main Topic\": \"Machine Learning\", \"Subtopic\": \"Breast Cancer Diagnosis\"},\n",
      "  {\"Main Topic\": \"FASN\", \"Subtopic\": \"Tumor Development\"},\n",
      "  {\"Main Topic\": \"FASN\", \"Subtopic\": \"Immunotherapy\"},\n",
      "  {\"Main Topic\": \"Lipoedema\", \"Subtopic\": \"Tumescent Liposuction\"},\n",
      "  {\"Main Topic\": \"Lipoedema\", \"Subtopic\": \"Quality of Life\"},\n",
      "  {\"Main Topic\": \"Breast Cancer\", \"Subtopic\": \"Heart Failure Risk\"},\n",
      "  {\"Main Topic\": \"NSCLC\", \"Subtopic\": \"Cardiac Metastasis\"},\n",
      "  {\"Main Topic\": \"Breast Cancer\", \"Subtopic\": \"Heart Failure Inpatients\"},\n",
      "  {\"Main Topic\": \"Fibroblasts\", \"Subtopic\": \"Esophageal Cancer\"},\n",
      "  {\"Main Topic\": \"Cellular Senescence\", \"Subtopic\": \"Metformin\"},\n",
      "  {\"Main Topic\": \"Pancreatic Cancer\", \"Subtopic\": \"SCP Characteristics\"},\n",
      "  {\"Main Topic\": \"SCP\", \"Subtopic\": \"Molecular Alterations\"},\n",
      "  {\"Main Topic\": \"HCC\", \"Subtopic\": \"CANX Regulation\"},\n",
      "  {\"Main Topic\": \"HCC\", \"Subtopic\": \"DHA Inhibition\"},\n",
      "  {\"Main Topic\": \"Psychosocial Interventions\", \"Subtopic\": \"Sexual Health in Pelvic Cancer\"},\n",
      "  {\"Main Topic\": \"Older Breast Cancer Patients\", \"Subtopic\": \"Clinical Trials\"},\n",
      "  {\"Main Topic\": \"NSCLC\", \"Subtopic\": \"Proximity to Healthcare\"},\n",
      "  {\"Main Topic\": \"PCM4EU and PRIME-ROSE\", \"Subtopic\": \"Precision Cancer Medicine\"},\n",
      "  {\"Main Topic\": \"Methylphenidate\", \"Subtopic\": \"Cancer-Related Fatigue\"},\n",
      "  {\"Main Topic\": \"CGP\", \"Subtopic\": \"Precision Cancer Medicine in Hungary\"},\n",
      "  {\"Main Topic\": \"Prostate Cancer\", \"Subtopic\": \"Older Men Treatments\"},\n",
      "  {\"Main Topic\": \"Cancer Survivors\", \"Subtopic\": \"Late Effects Management\"},\n",
      "  {\"Main Topic\": \"SMNs\", \"Subtopic\": \"Risk Based on First Primary Cancer\"},\n",
      "  {\"Main Topic\": \"MOST Trials\", \"Subtopic\": \"Personalized Medicine\"},\n",
      "  {\"Main Topic\": \"GIST\", \"Subtopic\": \"Imatinib Discontinuation\"},\n",
      "  {\"Main Topic\": \"Breast Cancer\", \"Subtopic\": \"Screen-Detected vs Non-Screen-Detected\"},\n",
      "  {\"Main Topic\": \"Parent Psychological Distress\", \"Subtopic\": \"Parenting Concerns and Cancer\"},\n",
      "  {\"Main Topic\": \"CIPN\", \"Subtopic\": \"NfL and GFAP Biomarkers\"}\n",
      "]\n",
      "```\n"
     ]
    }
   ],
   "source": [
    "response = completion.choices[0].message.content\n",
    "\n",
    "print(response)"
   ]
  },
  {
   "cell_type": "code",
   "execution_count": 56,
   "metadata": {},
   "outputs": [],
   "source": [
    "\n",
    "cleaned_output = response.replace(\"```json\", \"\").replace(\"```\", \"\").strip()\n",
    "file_path = 'cleaned_output.json'\n",
    "\n",
    "with open(file_path, 'w', encoding='utf-8') as file:\n",
    "    file.write(cleaned_output)\n"
   ]
  },
  {
   "cell_type": "code",
   "execution_count": 57,
   "metadata": {},
   "outputs": [],
   "source": [
    "import pandas as pd\n",
    "df = pd.read_json(\"cleaned_output.json\")"
   ]
  },
  {
   "cell_type": "code",
   "execution_count": 58,
   "metadata": {},
   "outputs": [
    {
     "data": {
      "application/vnd.plotly.v1+json": {
       "config": {
        "plotlyServerURL": "https://plot.ly"
       },
       "data": [
        {
         "hoverinfo": "text",
         "marker": {
          "color": [
           "rgba(240.0, 248.0, 255.0, 0.9)",
           "rgba(250.0, 235.0, 215.0, 0.9)",
           "rgba(0.0, 255.0, 255.0, 0.9)",
           "rgba(127.0, 255.0, 212.0, 0.9)",
           "rgba(240.0, 255.0, 255.0, 0.9)",
           "rgba(245.0, 245.0, 220.0, 0.9)",
           "rgba(255.0, 228.0, 196.0, 0.9)",
           "rgba(0.0, 0.0, 0.0, 0.9)",
           "rgba(255.0, 235.0, 205.0, 0.9)",
           "rgba(0.0, 0.0, 255.0, 0.9)",
           "rgba(138.0, 43.0, 226.0, 0.9)",
           "rgba(165.0, 42.0, 42.0, 0.9)",
           "rgba(222.0, 184.0, 135.0, 0.9)",
           "rgba(95.0, 158.0, 160.0, 0.9)",
           "rgba(127.0, 255.0, 0.0, 0.9)",
           "rgba(210.0, 105.0, 30.0, 0.9)",
           "rgba(255.0, 127.0, 80.0, 0.9)",
           "rgba(100.0, 149.0, 237.0, 0.9)",
           "rgba(255.0, 248.0, 220.0, 0.9)",
           "rgba(220.0, 20.0, 60.0, 0.9)",
           "rgba(0.0, 255.0, 255.0, 0.9)",
           "rgba(0.0, 0.0, 139.0, 0.9)",
           "rgba(0.0, 139.0, 139.0, 0.9)",
           "rgba(184.0, 134.0, 11.0, 0.9)",
           "rgba(169.0, 169.0, 169.0, 0.9)",
           "rgba(0.0, 100.0, 0.0, 0.9)",
           "rgba(169.0, 169.0, 169.0, 0.9)",
           "rgba(189.0, 183.0, 107.0, 0.9)",
           "rgba(139.0, 0.0, 139.0, 0.9)",
           "rgba(85.0, 107.0, 47.0, 0.9)",
           "rgba(255.0, 140.0, 0.0, 0.9)",
           "rgba(153.0, 50.0, 204.0, 0.9)"
          ],
          "line": {
           "color": "rgba(0, 0, 0, 0.5)",
           "width": 3
          },
          "opacity": 0.9,
          "showscale": false,
          "size": [
           25,
           25,
           25,
           25,
           25,
           25,
           25,
           25,
           25,
           25,
           25,
           25,
           25,
           25,
           25,
           25,
           25,
           25,
           25,
           25,
           25,
           25,
           25,
           25,
           25,
           25,
           25,
           25,
           25,
           25,
           25,
           25
          ],
          "symbol": "circle"
         },
         "mode": "markers",
         "text": [
          "Brain Metastasis<br>Subtopics:<br>1. Overall Survival<br>2. Local Control<br>3. Distant Brain Control",
          "Radiotherapy<br>Subtopics:<br>1. WBRT vs Stereotactic<br>2. Postoperative Targeted Radiotherapy",
          "Left-sided Breast Cancer<br>Subtopics:<br>1. DIBH Benefits",
          "DIBH<br>Subtopics:<br>1. Heart and Lung Dose Reduction<br>2. Cardiac Substructures",
          "Dosimetry<br>Subtopics:<br>1. MLC Adjustment",
          "PDIP-AAA<br>Subtopics:<br>1. Treatment Plan Accuracy<br>2. Gamma Passing Rates",
          "NSCLC<br>Subtopics:<br>1. Atezolizumab and Varlilumab<br>2. Palliative Radiation<br>3. Cardiac Metastasis<br>4. Proximity to Healthcare",
          "TASK-3 Channel<br>Subtopics:<br>1. Anesthetics<br>2. Ovarian Cancer",
          "HRQoL<br>Subtopics:<br>1. Rectal Cancer Treatment<br>2. Psychosocial Factors",
          "TyG Index<br>Subtopics:<br>1. Mortality in ICU<br>2. Insulin Resistance",
          "Radiomics<br>Subtopics:<br>1. HER2-low vs HER2-positive BC",
          "Machine Learning<br>Subtopics:<br>1. Breast Cancer Diagnosis",
          "FASN<br>Subtopics:<br>1. Tumor Development<br>2. Immunotherapy",
          "Lipoedema<br>Subtopics:<br>1. Tumescent Liposuction<br>2. Quality of Life",
          "Breast Cancer<br>Subtopics:<br>1. Heart Failure Risk<br>2. Heart Failure Inpatients<br>3. Screen-Detected vs Non-Screen-Detected",
          "Fibroblasts<br>Subtopics:<br>1. Esophageal Cancer",
          "Cellular Senescence<br>Subtopics:<br>1. Metformin",
          "Pancreatic Cancer<br>Subtopics:<br>1. SCP Characteristics",
          "SCP<br>Subtopics:<br>1. Molecular Alterations",
          "HCC<br>Subtopics:<br>1. CANX Regulation<br>2. DHA Inhibition",
          "Psychosocial Interventions<br>Subtopics:<br>1. Sexual Health in Pelvic Cancer",
          "Older Breast Cancer Patients<br>Subtopics:<br>1. Clinical Trials",
          "PCM4EU and PRIME-ROSE<br>Subtopics:<br>1. Precision Cancer Medicine",
          "Methylphenidate<br>Subtopics:<br>1. Cancer-Related Fatigue",
          "CGP<br>Subtopics:<br>1. Precision Cancer Medicine in Hungary",
          "Prostate Cancer<br>Subtopics:<br>1. Older Men Treatments",
          "Cancer Survivors<br>Subtopics:<br>1. Late Effects Management",
          "SMNs<br>Subtopics:<br>1. Risk Based on First Primary Cancer",
          "MOST Trials<br>Subtopics:<br>1. Personalized Medicine",
          "GIST<br>Subtopics:<br>1. Imatinib Discontinuation",
          "Parent Psychological Distress<br>Subtopics:<br>1. Parenting Concerns and Cancer",
          "CIPN<br>Subtopics:<br>1. NfL and GFAP Biomarkers"
         ],
         "type": "scatter",
         "x": [
          0.040484508703774444,
          -0.13392844045481772,
          0.5421074561964456,
          -0.007136164225157369,
          0.9451908078324436,
          0.032691131716075794,
          0.13625071333985356,
          -0.12489742311553932,
          0.23533118381724888,
          0.22713805870187273,
          -0.43913263855402845,
          0.80896816588556,
          0.17550487505322243,
          0.06178223169168983,
          0.07079244304945025,
          0.9932197281766537,
          -0.7888928454124493,
          0.7182704903408802,
          -0.16833393320290432,
          0.14907963733406485,
          0.3008299114366676,
          -0.7158655118148175,
          -0.8014037312943812,
          -0.9303483908686777,
          0.59839633383475,
          -0.9248712987574824,
          0.9545404266582189,
          -0.8875720585900576,
          0.597833123077478,
          -0.8666949347309539,
          -0.7433622636832117,
          -0.6427426994587695
         ],
         "y": [
          0.03189587895951449,
          0.08980480072234501,
          0.8424939902636119,
          0.16990829317234532,
          0.3497456938545389,
          0.16673590775570435,
          -0.015101714244470833,
          -0.024942431093168658,
          0.04300487407623374,
          -0.13700487455476365,
          -0.8084046952282816,
          -0.5377816243965405,
          0.11111172845789237,
          -0.22364403209993447,
          0.025531011646293577,
          0.04689018541836443,
          -0.46727627184130804,
          0.6929793726584386,
          -0.9118781447327552,
          0.17282796428159333,
          -0.8945917611547535,
          0.6336696311755282,
          0.5121529171626721,
          -0.052497835207389924,
          -0.7427772851588318,
          0.1647523592470375,
          -0.23587960145271022,
          -0.26669877742840553,
          0.797962667305093,
          0.3667731614254751,
          0.5988416922602636,
          -0.6552997714111105
         ]
        }
       ],
       "layout": {
        "height": 700,
        "hovermode": "closest",
        "margin": {
         "b": 20,
         "l": 5,
         "r": 5,
         "t": 40
        },
        "paper_bgcolor": "rgba(0,0,0,0)",
        "plot_bgcolor": "rgba(0,0,0,0)",
        "showlegend": false,
        "template": {
         "data": {
          "candlestick": [
           {
            "decreasing": {
             "line": {
              "color": "#000033"
             }
            },
            "increasing": {
             "line": {
              "color": "#000032"
             }
            },
            "type": "candlestick"
           }
          ],
          "contour": [
           {
            "colorscale": [
             [
              0,
              "#000011"
             ],
             [
              0.1111111111111111,
              "#000012"
             ],
             [
              0.2222222222222222,
              "#000013"
             ],
             [
              0.3333333333333333,
              "#000014"
             ],
             [
              0.4444444444444444,
              "#000015"
             ],
             [
              0.5555555555555556,
              "#000016"
             ],
             [
              0.6666666666666666,
              "#000017"
             ],
             [
              0.7777777777777778,
              "#000018"
             ],
             [
              0.8888888888888888,
              "#000019"
             ],
             [
              1,
              "#000020"
             ]
            ],
            "type": "contour"
           }
          ],
          "contourcarpet": [
           {
            "colorscale": [
             [
              0,
              "#000011"
             ],
             [
              0.1111111111111111,
              "#000012"
             ],
             [
              0.2222222222222222,
              "#000013"
             ],
             [
              0.3333333333333333,
              "#000014"
             ],
             [
              0.4444444444444444,
              "#000015"
             ],
             [
              0.5555555555555556,
              "#000016"
             ],
             [
              0.6666666666666666,
              "#000017"
             ],
             [
              0.7777777777777778,
              "#000018"
             ],
             [
              0.8888888888888888,
              "#000019"
             ],
             [
              1,
              "#000020"
             ]
            ],
            "type": "contourcarpet"
           }
          ],
          "heatmap": [
           {
            "colorscale": [
             [
              0,
              "#000011"
             ],
             [
              0.1111111111111111,
              "#000012"
             ],
             [
              0.2222222222222222,
              "#000013"
             ],
             [
              0.3333333333333333,
              "#000014"
             ],
             [
              0.4444444444444444,
              "#000015"
             ],
             [
              0.5555555555555556,
              "#000016"
             ],
             [
              0.6666666666666666,
              "#000017"
             ],
             [
              0.7777777777777778,
              "#000018"
             ],
             [
              0.8888888888888888,
              "#000019"
             ],
             [
              1,
              "#000020"
             ]
            ],
            "type": "heatmap"
           }
          ],
          "histogram2d": [
           {
            "colorscale": [
             [
              0,
              "#000011"
             ],
             [
              0.1111111111111111,
              "#000012"
             ],
             [
              0.2222222222222222,
              "#000013"
             ],
             [
              0.3333333333333333,
              "#000014"
             ],
             [
              0.4444444444444444,
              "#000015"
             ],
             [
              0.5555555555555556,
              "#000016"
             ],
             [
              0.6666666666666666,
              "#000017"
             ],
             [
              0.7777777777777778,
              "#000018"
             ],
             [
              0.8888888888888888,
              "#000019"
             ],
             [
              1,
              "#000020"
             ]
            ],
            "type": "histogram2d"
           }
          ],
          "icicle": [
           {
            "textfont": {
             "color": "white"
            },
            "type": "icicle"
           }
          ],
          "sankey": [
           {
            "textfont": {
             "color": "#000036"
            },
            "type": "sankey"
           }
          ],
          "scatter": [
           {
            "marker": {
             "line": {
              "width": 0
             }
            },
            "type": "scatter"
           }
          ],
          "table": [
           {
            "cells": {
             "fill": {
              "color": "#000038"
             },
             "font": {
              "color": "#000037"
             },
             "line": {
              "color": "#000039"
             }
            },
            "header": {
             "fill": {
              "color": "#000040"
             },
             "font": {
              "color": "#000036"
             },
             "line": {
              "color": "#000039"
             }
            },
            "type": "table"
           }
          ],
          "waterfall": [
           {
            "connector": {
             "line": {
              "color": "#000036",
              "width": 2
             }
            },
            "decreasing": {
             "marker": {
              "color": "#000033"
             }
            },
            "increasing": {
             "marker": {
              "color": "#000032"
             }
            },
            "totals": {
             "marker": {
              "color": "#000034"
             }
            },
            "type": "waterfall"
           }
          ]
         },
         "layout": {
          "coloraxis": {
           "colorscale": [
            [
             0,
             "#000011"
            ],
            [
             0.1111111111111111,
             "#000012"
            ],
            [
             0.2222222222222222,
             "#000013"
            ],
            [
             0.3333333333333333,
             "#000014"
            ],
            [
             0.4444444444444444,
             "#000015"
            ],
            [
             0.5555555555555556,
             "#000016"
            ],
            [
             0.6666666666666666,
             "#000017"
            ],
            [
             0.7777777777777778,
             "#000018"
            ],
            [
             0.8888888888888888,
             "#000019"
            ],
            [
             1,
             "#000020"
            ]
           ]
          },
          "colorscale": {
           "diverging": [
            [
             0,
             "#000021"
            ],
            [
             0.1,
             "#000022"
            ],
            [
             0.2,
             "#000023"
            ],
            [
             0.3,
             "#000024"
            ],
            [
             0.4,
             "#000025"
            ],
            [
             0.5,
             "#000026"
            ],
            [
             0.6,
             "#000027"
            ],
            [
             0.7,
             "#000028"
            ],
            [
             0.8,
             "#000029"
            ],
            [
             0.9,
             "#000030"
            ],
            [
             1,
             "#000031"
            ]
           ],
           "sequential": [
            [
             0,
             "#000011"
            ],
            [
             0.1111111111111111,
             "#000012"
            ],
            [
             0.2222222222222222,
             "#000013"
            ],
            [
             0.3333333333333333,
             "#000014"
            ],
            [
             0.4444444444444444,
             "#000015"
            ],
            [
             0.5555555555555556,
             "#000016"
            ],
            [
             0.6666666666666666,
             "#000017"
            ],
            [
             0.7777777777777778,
             "#000018"
            ],
            [
             0.8888888888888888,
             "#000019"
            ],
            [
             1,
             "#000020"
            ]
           ],
           "sequentialminus": [
            [
             0,
             "#000011"
            ],
            [
             0.1111111111111111,
             "#000012"
            ],
            [
             0.2222222222222222,
             "#000013"
            ],
            [
             0.3333333333333333,
             "#000014"
            ],
            [
             0.4444444444444444,
             "#000015"
            ],
            [
             0.5555555555555556,
             "#000016"
            ],
            [
             0.6666666666666666,
             "#000017"
            ],
            [
             0.7777777777777778,
             "#000018"
            ],
            [
             0.8888888888888888,
             "#000019"
            ],
            [
             1,
             "#000020"
            ]
           ]
          },
          "colorway": [
           "#000001",
           "#000002",
           "#000003",
           "#000004",
           "#000005",
           "#000006",
           "#000007",
           "#000008",
           "#000009",
           "#000010"
          ]
         }
        },
        "title": {
         "font": {
          "size": 20
         },
         "text": "Retina-Style Network Graph"
        },
        "width": 700,
        "xaxis": {
         "showgrid": false,
         "visible": false,
         "zeroline": false
        },
        "yaxis": {
         "showgrid": false,
         "visible": false,
         "zeroline": false
        }
       }
      }
     },
     "metadata": {},
     "output_type": "display_data"
    }
   ],
   "source": [
    "import pandas as pd\n",
    "import networkx as nx\n",
    "import plotly.graph_objs as go\n",
    "import matplotlib.colors as mcolors\n",
    "import itertools\n",
    "\n",
    "# Assuming df is already defined and contains the data\n",
    "\n",
    "G = nx.DiGraph()\n",
    "\n",
    "# Build the graph\n",
    "for index, row in df.iterrows():\n",
    "    G.add_node(row['Main Topic'], type='Main Topic')\n",
    "    G.add_node(row['Subtopic'], type='Subtopic')\n",
    "    G.add_edge(row['Main Topic'], row['Subtopic'])\n",
    "\n",
    "# Generate positions for nodes\n",
    "pos = nx.spring_layout(G, iterations=2000, k=0.07)\n",
    "\n",
    "colors = itertools.cycle(mcolors.CSS4_COLORS)\n",
    "\n",
    "node_colors = {}\n",
    "\n",
    "# Assign a unique color to each connected component\n",
    "for component in nx.weakly_connected_components(G):\n",
    "    color = next(colors)\n",
    "    for node in component:\n",
    "        node_colors[node] = color\n",
    "\n",
    "# Create node traces for Plotly, only including Main Topic nodes\n",
    "node_trace = go.Scatter(\n",
    "    x=[],\n",
    "    y=[],\n",
    "    text=[],\n",
    "    mode='markers',\n",
    "    hoverinfo='text',\n",
    "    marker=dict(\n",
    "        showscale=False,\n",
    "        size=[], \n",
    "        color=[],\n",
    "        opacity=0.9,\n",
    "        line=dict(width=3, color='rgba(0, 0, 0, 0.5)'),\n",
    "        symbol='circle',\n",
    "    ))\n",
    "\n",
    "# Add the main topic nodes and their positions to the node_trace\n",
    "for node in G.nodes():\n",
    "    if G.nodes[node]['type'] == 'Main Topic':\n",
    "        x, y = pos[node]\n",
    "        node_trace['x'] += (x,)\n",
    "        node_trace['y'] += (y,)\n",
    "        \n",
    "        # Gather subtopics and format them with each subtopic on a new line using <br> for line breaks\n",
    "        subtopics = [f\"{i+1}. {n}\" for i, n in enumerate(G.neighbors(node))]\n",
    "        hover_text = f\"{node}<br>Subtopics:<br>\" + \"<br>\".join(subtopics)\n",
    "        node_trace['text'] += (hover_text,)\n",
    "        \n",
    "        node_size = 25  # Fixed size for Main Topic\n",
    "        node_trace['marker']['size'] += (node_size,)\n",
    "        \n",
    "        node_color = mcolors.to_rgba(node_colors[node], alpha=0.9)  # Semi-transparent color\n",
    "        node_trace['marker']['color'] += (f\"rgba({node_color[0]*255}, {node_color[1]*255}, {node_color[2]*255}, 0.9)\",)\n",
    "\n",
    "# No edge traces or annotations are added\n",
    "\n",
    "# Create and show the figure\n",
    "fig = go.Figure(data=[node_trace],\n",
    "                layout=go.Layout(\n",
    "                    title='Retina-Style Network Graph',\n",
    "                    titlefont_size=20,\n",
    "                    showlegend=False,\n",
    "                    hovermode='closest',\n",
    "                    margin=dict(b=20, l=5, r=5, t=40),\n",
    "                    xaxis=dict(showgrid=False, zeroline=False, visible=False), \n",
    "                    yaxis=dict(showgrid=False, zeroline=False, visible=False),\n",
    "                    paper_bgcolor='rgba(0,0,0,0)',\n",
    "                    plot_bgcolor='rgba(0,0,0,0)',\n",
    "                    width=700,\n",
    "                    height=700\n",
    "                ))\n",
    "\n",
    "fig.show()\n",
    "\n"
   ]
  },
  {
   "cell_type": "code",
   "execution_count": 59,
   "metadata": {},
   "outputs": [
    {
     "data": {
      "application/vnd.plotly.v1+json": {
       "config": {
        "plotlyServerURL": "https://plot.ly"
       },
       "data": [
        {
         "hoverinfo": "none",
         "line": {
          "color": "rgba(150, 150, 150, 0.6)",
          "width": 2
         },
         "mode": "lines",
         "type": "scatter",
         "x": [
          0.035977104008636136,
          -0.815823678209739,
          null
         ],
         "y": [
          -0.45587452414463286,
          -0.4902703990713812,
          null
         ]
        },
        {
         "hoverinfo": "none",
         "line": {
          "color": "rgba(150, 150, 150, 0.6)",
          "width": 2
         },
         "mode": "lines",
         "type": "scatter",
         "x": [
          0.035977104008636136,
          0.17663534075430606,
          null
         ],
         "y": [
          -0.45587452414463286,
          -0.9824037267213329,
          null
         ]
        },
        {
         "hoverinfo": "none",
         "line": {
          "color": "rgba(150, 150, 150, 0.6)",
          "width": 2
         },
         "mode": "lines",
         "type": "scatter",
         "x": [
          0.035977104008636136,
          0.9017717191238345,
          null
         ],
         "y": [
          -0.45587452414463286,
          -0.15183049229105997,
          null
         ]
        },
        {
         "hoverinfo": "none",
         "line": {
          "color": "rgba(150, 150, 150, 0.6)",
          "width": 2
         },
         "mode": "lines",
         "type": "scatter",
         "x": [
          0.18954036542176653,
          -0.49300744180779854,
          null
         ],
         "y": [
          0.13730820925829268,
          0.8429106711776959,
          null
         ]
        },
        {
         "hoverinfo": "none",
         "line": {
          "color": "rgba(150, 150, 150, 0.6)",
          "width": 2
         },
         "mode": "lines",
         "type": "scatter",
         "x": [
          0.18954036542176653,
          0.8203250627404564,
          null
         ],
         "y": [
          0.13730820925829268,
          -0.6214254154975721,
          null
         ]
        },
        {
         "hoverinfo": "none",
         "line": {
          "color": "rgba(150, 150, 150, 0.6)",
          "width": 2
         },
         "mode": "lines",
         "type": "scatter",
         "x": [
          -0.47760281779265834,
          -0.3265438164851026,
          null
         ],
         "y": [
          -0.3029123935140846,
          -0.8442883817238885,
          null
         ]
        },
        {
         "hoverinfo": "none",
         "line": {
          "color": "rgba(150, 150, 150, 0.6)",
          "width": 2
         },
         "mode": "lines",
         "type": "scatter",
         "x": [
          -0.39033844269725854,
          -0.9670072894456383,
          null
         ],
         "y": [
          -0.581134101556703,
          -0.07253051453557349,
          null
         ]
        },
        {
         "hoverinfo": "none",
         "line": {
          "color": "rgba(150, 150, 150, 0.6)",
          "width": 2
         },
         "mode": "lines",
         "type": "scatter",
         "x": [
          -0.39033844269725854,
          -0.5193376346643631,
          null
         ],
         "y": [
          -0.581134101556703,
          -0.7811285175815335,
          null
         ]
        },
        {
         "hoverinfo": "none",
         "line": {
          "color": "rgba(150, 150, 150, 0.6)",
          "width": 2
         },
         "mode": "lines",
         "type": "scatter",
         "x": [
          -0.2261532770152973,
          0.20457523914221362,
          null
         ],
         "y": [
          0.9224579301142304,
          0.9713003948467537,
          null
         ]
        },
        {
         "hoverinfo": "none",
         "line": {
          "color": "rgba(150, 150, 150, 0.6)",
          "width": 2
         },
         "mode": "lines",
         "type": "scatter",
         "x": [
          -0.11703336926220023,
          -0.1802375362176424,
          null
         ],
         "y": [
          0.9589242645488804,
          0.9135912874353299,
          null
         ]
        },
        {
         "hoverinfo": "none",
         "line": {
          "color": "rgba(150, 150, 150, 0.6)",
          "width": 2
         },
         "mode": "lines",
         "type": "scatter",
         "x": [
          -0.11703336926220023,
          -0.676433877096937,
          null
         ],
         "y": [
          0.9589242645488804,
          0.7418675978994721,
          null
         ]
        },
        {
         "hoverinfo": "none",
         "line": {
          "color": "rgba(150, 150, 150, 0.6)",
          "width": 2
         },
         "mode": "lines",
         "type": "scatter",
         "x": [
          0.2397028732693019,
          0.8022532257382127,
          null
         ],
         "y": [
          -0.07219793869748742,
          0.6422327279403859,
          null
         ]
        },
        {
         "hoverinfo": "none",
         "line": {
          "color": "rgba(150, 150, 150, 0.6)",
          "width": 2
         },
         "mode": "lines",
         "type": "scatter",
         "x": [
          0.2397028732693019,
          -0.2138156648470564,
          null
         ],
         "y": [
          -0.07219793869748742,
          -0.8913779093471487,
          null
         ]
        },
        {
         "hoverinfo": "none",
         "line": {
          "color": "rgba(150, 150, 150, 0.6)",
          "width": 2
         },
         "mode": "lines",
         "type": "scatter",
         "x": [
          0.2397028732693019,
          -0.17082747667269774,
          null
         ],
         "y": [
          -0.07219793869748742,
          -0.943750685823883,
          null
         ]
        },
        {
         "hoverinfo": "none",
         "line": {
          "color": "rgba(150, 150, 150, 0.6)",
          "width": 2
         },
         "mode": "lines",
         "type": "scatter",
         "x": [
          0.2397028732693019,
          0.4621492522500095,
          null
         ],
         "y": [
          -0.07219793869748742,
          0.8952295415683917,
          null
         ]
        },
        {
         "hoverinfo": "none",
         "line": {
          "color": "rgba(150, 150, 150, 0.6)",
          "width": 2
         },
         "mode": "lines",
         "type": "scatter",
         "x": [
          -0.6212183999181725,
          -0.8488124068814898,
          null
         ],
         "y": [
          -0.0706188615471335,
          0.532005706105593,
          null
         ]
        },
        {
         "hoverinfo": "none",
         "line": {
          "color": "rgba(150, 150, 150, 0.6)",
          "width": 2
         },
         "mode": "lines",
         "type": "scatter",
         "x": [
          -0.6212183999181725,
          -0.4021589695251469,
          null
         ],
         "y": [
          -0.0706188615471335,
          -0.5498320709332958,
          null
         ]
        },
        {
         "hoverinfo": "none",
         "line": {
          "color": "rgba(150, 150, 150, 0.6)",
          "width": 2
         },
         "mode": "lines",
         "type": "scatter",
         "x": [
          0.2775340393365735,
          0.281273536533364,
          null
         ],
         "y": [
          -0.2489829825587332,
          -0.9127125929561328,
          null
         ]
        },
        {
         "hoverinfo": "none",
         "line": {
          "color": "rgba(150, 150, 150, 0.6)",
          "width": 2
         },
         "mode": "lines",
         "type": "scatter",
         "x": [
          0.2775340393365735,
          0.6638790226617742,
          null
         ],
         "y": [
          -0.2489829825587332,
          -0.6467495670286406,
          null
         ]
        },
        {
         "hoverinfo": "none",
         "line": {
          "color": "rgba(150, 150, 150, 0.6)",
          "width": 2
         },
         "mode": "lines",
         "type": "scatter",
         "x": [
          -0.2838097199527122,
          -0.5646687498006581,
          null
         ],
         "y": [
          0.09669727154390115,
          0.7278209195341148,
          null
         ]
        },
        {
         "hoverinfo": "none",
         "line": {
          "color": "rgba(150, 150, 150, 0.6)",
          "width": 2
         },
         "mode": "lines",
         "type": "scatter",
         "x": [
          -0.2838097199527122,
          -0.9093960490352535,
          null
         ],
         "y": [
          0.09669727154390115,
          -0.29983098203719055,
          null
         ]
        },
        {
         "hoverinfo": "none",
         "line": {
          "color": "rgba(150, 150, 150, 0.6)",
          "width": 2
         },
         "mode": "lines",
         "type": "scatter",
         "x": [
          -0.07392568636454182,
          0.5025138948787166,
          null
         ],
         "y": [
          -0.12909431035582059,
          -0.8566607081566945,
          null
         ]
        },
        {
         "hoverinfo": "none",
         "line": {
          "color": "rgba(150, 150, 150, 0.6)",
          "width": 2
         },
         "mode": "lines",
         "type": "scatter",
         "x": [
          0.8898026530427973,
          1,
          null
         ],
         "y": [
          -0.3863612858666364,
          0.07326483752717552,
          null
         ]
        },
        {
         "hoverinfo": "none",
         "line": {
          "color": "rgba(150, 150, 150, 0.6)",
          "width": 2
         },
         "mode": "lines",
         "type": "scatter",
         "x": [
          -0.04169218822312769,
          -0.733694433949304,
          null
         ],
         "y": [
          -0.7357347459269922,
          -0.679263083496162,
          null
         ]
        },
        {
         "hoverinfo": "none",
         "line": {
          "color": "rgba(150, 150, 150, 0.6)",
          "width": 2
         },
         "mode": "lines",
         "type": "scatter",
         "x": [
          -0.04169218822312769,
          0.587630667636766,
          null
         ],
         "y": [
          -0.7357347459269922,
          -0.773145312373476,
          null
         ]
        },
        {
         "hoverinfo": "none",
         "line": {
          "color": "rgba(150, 150, 150, 0.6)",
          "width": 2
         },
         "mode": "lines",
         "type": "scatter",
         "x": [
          0.3639465962994026,
          0.9041383857131824,
          null
         ],
         "y": [
          0.018019426276232618,
          -0.34159503638439875,
          null
         ]
        },
        {
         "hoverinfo": "none",
         "line": {
          "color": "rgba(150, 150, 150, 0.6)",
          "width": 2
         },
         "mode": "lines",
         "type": "scatter",
         "x": [
          0.3639465962994026,
          0.9640191929215902,
          null
         ],
         "y": [
          0.018019426276232618,
          0.3484617310889296,
          null
         ]
        },
        {
         "hoverinfo": "none",
         "line": {
          "color": "rgba(150, 150, 150, 0.6)",
          "width": 2
         },
         "mode": "lines",
         "type": "scatter",
         "x": [
          -0.18168043712511237,
          -0.9422142171738717,
          null
         ],
         "y": [
          0.07002926083266937,
          0.09721483639143931,
          null
         ]
        },
        {
         "hoverinfo": "none",
         "line": {
          "color": "rgba(150, 150, 150, 0.6)",
          "width": 2
         },
         "mode": "lines",
         "type": "scatter",
         "x": [
          -0.18168043712511237,
          0.5594561923710885,
          null
         ],
         "y": [
          0.07002926083266937,
          0.8305882575696518,
          null
         ]
        },
        {
         "hoverinfo": "none",
         "line": {
          "color": "rgba(150, 150, 150, 0.6)",
          "width": 2
         },
         "mode": "lines",
         "type": "scatter",
         "x": [
          -0.18168043712511237,
          -0.424738436180823,
          null
         ],
         "y": [
          0.07002926083266937,
          -0.8713177684486829,
          null
         ]
        },
        {
         "hoverinfo": "none",
         "line": {
          "color": "rgba(150, 150, 150, 0.6)",
          "width": 2
         },
         "mode": "lines",
         "type": "scatter",
         "x": [
          -0.2886486041821037,
          -0.3809023553601917,
          null
         ],
         "y": [
          -0.08269396489121578,
          0.9034732836025758,
          null
         ]
        },
        {
         "hoverinfo": "none",
         "line": {
          "color": "rgba(150, 150, 150, 0.6)",
          "width": 2
         },
         "mode": "lines",
         "type": "scatter",
         "x": [
          -0.4482043388168226,
          -0.9036652991271512,
          null
         ],
         "y": [
          0.23625036942130848,
          -0.1890277672498671,
          null
         ]
        },
        {
         "hoverinfo": "none",
         "line": {
          "color": "rgba(150, 150, 150, 0.6)",
          "width": 2
         },
         "mode": "lines",
         "type": "scatter",
         "x": [
          0.5264413457538055,
          0.3478573896206761,
          null
         ],
         "y": [
          0.5501459973399105,
          0.934455646636413,
          null
         ]
        },
        {
         "hoverinfo": "none",
         "line": {
          "color": "rgba(150, 150, 150, 0.6)",
          "width": 2
         },
         "mode": "lines",
         "type": "scatter",
         "x": [
          -0.7781729680626812,
          -0.7139481601704551,
          null
         ],
         "y": [
          0.44071054201693366,
          0.6028646342558415,
          null
         ]
        },
        {
         "hoverinfo": "none",
         "line": {
          "color": "rgba(150, 150, 150, 0.6)",
          "width": 2
         },
         "mode": "lines",
         "type": "scatter",
         "x": [
          0.48577226757729264,
          0.8884518605678112,
          null
         ],
         "y": [
          0.40917509299085847,
          0.4186981390405802,
          null
         ]
        },
        {
         "hoverinfo": "none",
         "line": {
          "color": "rgba(150, 150, 150, 0.6)",
          "width": 2
         },
         "mode": "lines",
         "type": "scatter",
         "x": [
          0.48577226757729264,
          0.04591825801700093,
          null
         ],
         "y": [
          0.40917509299085847,
          0.8648666321122138,
          null
         ]
        },
        {
         "hoverinfo": "none",
         "line": {
          "color": "rgba(150, 150, 150, 0.6)",
          "width": 2
         },
         "mode": "lines",
         "type": "scatter",
         "x": [
          0.1706051436249112,
          0.6689730635786298,
          null
         ],
         "y": [
          0.6980495057131959,
          0.7818785891219635,
          null
         ]
        },
        {
         "hoverinfo": "none",
         "line": {
          "color": "rgba(150, 150, 150, 0.6)",
          "width": 2
         },
         "mode": "lines",
         "type": "scatter",
         "x": [
          -0.24028893626407297,
          -0.9164453755240274,
          null
         ],
         "y": [
          -0.11017402236442364,
          0.2558038635274516,
          null
         ]
        },
        {
         "hoverinfo": "none",
         "line": {
          "color": "rgba(150, 150, 150, 0.6)",
          "width": 2
         },
         "mode": "lines",
         "type": "scatter",
         "x": [
          0.21804161680576606,
          0.9210847954016079,
          null
         ],
         "y": [
          0.2624604558168515,
          0.21780874515575083,
          null
         ]
        },
        {
         "hoverinfo": "none",
         "line": {
          "color": "rgba(150, 150, 150, 0.6)",
          "width": 2
         },
         "mode": "lines",
         "type": "scatter",
         "x": [
          0.7225565401230171,
          0.864436269627882,
          null
         ],
         "y": [
          0.6625691693606413,
          0.5331410347096309,
          null
         ]
        },
        {
         "hoverinfo": "none",
         "line": {
          "color": "rgba(150, 150, 150, 0.6)",
          "width": 2
         },
         "mode": "lines",
         "type": "scatter",
         "x": [
          0.17617979982296944,
          -0.1404746703015807,
          null
         ],
         "y": [
          0.8529386617658051,
          0.9651511359898602,
          null
         ]
        },
        {
         "hoverinfo": "none",
         "line": {
          "color": "rgba(150, 150, 150, 0.6)",
          "width": 2
         },
         "mode": "lines",
         "type": "scatter",
         "x": [
          0.1799466043099177,
          0.9681484174139728,
          null
         ],
         "y": [
          -0.2563060628248224,
          -0.2675046066178281,
          null
         ]
        },
        {
         "hoverinfo": "none",
         "line": {
          "color": "rgba(150, 150, 150, 0.6)",
          "width": 2
         },
         "mode": "lines",
         "type": "scatter",
         "x": [
          0.6287810261117975,
          0.39557839516749443,
          null
         ],
         "y": [
          -0.28090396527141104,
          -0.905519332368604,
          null
         ]
        },
        {
         "hoverinfo": "none",
         "line": {
          "color": "rgba(150, 150, 150, 0.6)",
          "width": 2
         },
         "mode": "lines",
         "type": "scatter",
         "x": [
          0.7894925767158085,
          0.9910258534570958,
          null
         ],
         "y": [
          -0.535607795325735,
          -0.09783308003434583,
          null
         ]
        },
        {
         "hoverinfo": "none",
         "line": {
          "color": "rgba(150, 150, 150, 0.6)",
          "width": 2
         },
         "mode": "lines",
         "type": "scatter",
         "x": [
          -0.15091940283853494,
          -0.7263643709820528,
          null
         ],
         "y": [
          -0.9565443257329901,
          -0.5857689451453264,
          null
         ]
        },
        {
         "hoverinfo": "none",
         "line": {
          "color": "rgba(150, 150, 150, 0.6)",
          "width": 2
         },
         "mode": "lines",
         "type": "scatter",
         "x": [
          -0.09240915762741626,
          -0.8155554283057701,
          null
         ],
         "y": [
          -0.35687783148948193,
          -0.36860682108456155,
          null
         ]
        },
        {
         "hoverinfo": "none",
         "line": {
          "color": "rgba(150, 150, 150, 0.6)",
          "width": 2
         },
         "mode": "lines",
         "type": "scatter",
         "x": [
          -0.837789297217729,
          -0.6265751034503381,
          null
         ],
         "y": [
          -0.11626920269470523,
          -0.7566372176415381,
          null
         ]
        },
        {
         "hoverinfo": "none",
         "line": {
          "color": "rgba(150, 150, 150, 0.6)",
          "width": 2
         },
         "mode": "lines",
         "type": "scatter",
         "x": [
          -0.32164713308296206,
          -0.8322329698829553,
          null
         ],
         "y": [
          0.28861402110927264,
          -0.13968114203307128,
          null
         ]
        },
        {
         "hoverinfo": "text",
         "marker": {
          "color": [
           "rgba(240.0, 248.0, 255.0, 0.9)",
           "rgba(240.0, 248.0, 255.0, 0.9)",
           "rgba(240.0, 248.0, 255.0, 0.9)",
           "rgba(240.0, 248.0, 255.0, 0.9)",
           "rgba(250.0, 235.0, 215.0, 0.9)",
           "rgba(250.0, 235.0, 215.0, 0.9)",
           "rgba(250.0, 235.0, 215.0, 0.9)",
           "rgba(0.0, 255.0, 255.0, 0.9)",
           "rgba(0.0, 255.0, 255.0, 0.9)",
           "rgba(127.0, 255.0, 212.0, 0.9)",
           "rgba(127.0, 255.0, 212.0, 0.9)",
           "rgba(127.0, 255.0, 212.0, 0.9)",
           "rgba(240.0, 255.0, 255.0, 0.9)",
           "rgba(240.0, 255.0, 255.0, 0.9)",
           "rgba(245.0, 245.0, 220.0, 0.9)",
           "rgba(245.0, 245.0, 220.0, 0.9)",
           "rgba(245.0, 245.0, 220.0, 0.9)",
           "rgba(255.0, 228.0, 196.0, 0.9)",
           "rgba(255.0, 228.0, 196.0, 0.9)",
           "rgba(255.0, 228.0, 196.0, 0.9)",
           "rgba(0.0, 0.0, 0.0, 0.9)",
           "rgba(0.0, 0.0, 0.0, 0.9)",
           "rgba(0.0, 0.0, 0.0, 0.9)",
           "rgba(255.0, 235.0, 205.0, 0.9)",
           "rgba(255.0, 235.0, 205.0, 0.9)",
           "rgba(255.0, 235.0, 205.0, 0.9)",
           "rgba(0.0, 0.0, 255.0, 0.9)",
           "rgba(0.0, 0.0, 255.0, 0.9)",
           "rgba(0.0, 0.0, 255.0, 0.9)",
           "rgba(138.0, 43.0, 226.0, 0.9)",
           "rgba(138.0, 43.0, 226.0, 0.9)",
           "rgba(165.0, 42.0, 42.0, 0.9)",
           "rgba(165.0, 42.0, 42.0, 0.9)",
           "rgba(222.0, 184.0, 135.0, 0.9)",
           "rgba(222.0, 184.0, 135.0, 0.9)",
           "rgba(222.0, 184.0, 135.0, 0.9)",
           "rgba(95.0, 158.0, 160.0, 0.9)",
           "rgba(95.0, 158.0, 160.0, 0.9)",
           "rgba(95.0, 158.0, 160.0, 0.9)",
           "rgba(127.0, 255.0, 0.0, 0.9)",
           "rgba(127.0, 255.0, 0.0, 0.9)",
           "rgba(255.0, 228.0, 196.0, 0.9)",
           "rgba(127.0, 255.0, 0.0, 0.9)",
           "rgba(210.0, 105.0, 30.0, 0.9)",
           "rgba(210.0, 105.0, 30.0, 0.9)",
           "rgba(255.0, 127.0, 80.0, 0.9)",
           "rgba(255.0, 127.0, 80.0, 0.9)",
           "rgba(100.0, 149.0, 237.0, 0.9)",
           "rgba(100.0, 149.0, 237.0, 0.9)",
           "rgba(255.0, 248.0, 220.0, 0.9)",
           "rgba(255.0, 248.0, 220.0, 0.9)",
           "rgba(220.0, 20.0, 60.0, 0.9)",
           "rgba(220.0, 20.0, 60.0, 0.9)",
           "rgba(220.0, 20.0, 60.0, 0.9)",
           "rgba(0.0, 255.0, 255.0, 0.9)",
           "rgba(0.0, 255.0, 255.0, 0.9)",
           "rgba(0.0, 0.0, 139.0, 0.9)",
           "rgba(0.0, 0.0, 139.0, 0.9)",
           "rgba(255.0, 228.0, 196.0, 0.9)",
           "rgba(0.0, 139.0, 139.0, 0.9)",
           "rgba(0.0, 139.0, 139.0, 0.9)",
           "rgba(184.0, 134.0, 11.0, 0.9)",
           "rgba(184.0, 134.0, 11.0, 0.9)",
           "rgba(169.0, 169.0, 169.0, 0.9)",
           "rgba(169.0, 169.0, 169.0, 0.9)",
           "rgba(0.0, 100.0, 0.0, 0.9)",
           "rgba(0.0, 100.0, 0.0, 0.9)",
           "rgba(169.0, 169.0, 169.0, 0.9)",
           "rgba(169.0, 169.0, 169.0, 0.9)",
           "rgba(189.0, 183.0, 107.0, 0.9)",
           "rgba(189.0, 183.0, 107.0, 0.9)",
           "rgba(139.0, 0.0, 139.0, 0.9)",
           "rgba(139.0, 0.0, 139.0, 0.9)",
           "rgba(85.0, 107.0, 47.0, 0.9)",
           "rgba(85.0, 107.0, 47.0, 0.9)",
           "rgba(127.0, 255.0, 0.0, 0.9)",
           "rgba(255.0, 140.0, 0.0, 0.9)",
           "rgba(255.0, 140.0, 0.0, 0.9)",
           "rgba(153.0, 50.0, 204.0, 0.9)",
           "rgba(153.0, 50.0, 204.0, 0.9)"
          ],
          "line": {
           "color": "rgba(0, 0, 0, 0.5)",
           "width": 3
          },
          "opacity": 0.9,
          "showscale": false,
          "size": [
           25,
           15,
           15,
           15,
           25,
           15,
           15,
           25,
           15,
           25,
           15,
           15,
           25,
           15,
           25,
           15,
           15,
           25,
           15,
           15,
           25,
           15,
           15,
           25,
           15,
           15,
           25,
           15,
           15,
           25,
           15,
           25,
           15,
           25,
           15,
           15,
           25,
           15,
           15,
           25,
           15,
           15,
           15,
           25,
           15,
           25,
           15,
           25,
           15,
           25,
           15,
           25,
           15,
           15,
           25,
           15,
           25,
           15,
           15,
           25,
           15,
           25,
           15,
           25,
           15,
           25,
           15,
           25,
           15,
           25,
           15,
           25,
           15,
           25,
           15,
           15,
           25,
           15,
           25,
           15
          ],
          "symbol": "circle"
         },
         "mode": "markers",
         "text": [
          "Brain Metastasis<br>Subtopics:<br>1. Overall Survival<br>2. Local Control<br>3. Distant Brain Control",
          "",
          "",
          "",
          "Radiotherapy<br>Subtopics:<br>1. WBRT vs Stereotactic<br>2. Postoperative Targeted Radiotherapy",
          "",
          "",
          "Left-sided Breast Cancer<br>Subtopics:<br>1. DIBH Benefits",
          "",
          "DIBH<br>Subtopics:<br>1. Heart and Lung Dose Reduction<br>2. Cardiac Substructures",
          "",
          "",
          "Dosimetry<br>Subtopics:<br>1. MLC Adjustment",
          "",
          "PDIP-AAA<br>Subtopics:<br>1. Treatment Plan Accuracy<br>2. Gamma Passing Rates",
          "",
          "",
          "NSCLC<br>Subtopics:<br>1. Atezolizumab and Varlilumab<br>2. Palliative Radiation<br>3. Cardiac Metastasis<br>4. Proximity to Healthcare",
          "",
          "",
          "TASK-3 Channel<br>Subtopics:<br>1. Anesthetics<br>2. Ovarian Cancer",
          "",
          "",
          "HRQoL<br>Subtopics:<br>1. Rectal Cancer Treatment<br>2. Psychosocial Factors",
          "",
          "",
          "TyG Index<br>Subtopics:<br>1. Mortality in ICU<br>2. Insulin Resistance",
          "",
          "",
          "Radiomics<br>Subtopics:<br>1. HER2-low vs HER2-positive BC",
          "",
          "Machine Learning<br>Subtopics:<br>1. Breast Cancer Diagnosis",
          "",
          "FASN<br>Subtopics:<br>1. Tumor Development<br>2. Immunotherapy",
          "",
          "",
          "Lipoedema<br>Subtopics:<br>1. Tumescent Liposuction<br>2. Quality of Life",
          "",
          "",
          "Breast Cancer<br>Subtopics:<br>1. Heart Failure Risk<br>2. Heart Failure Inpatients<br>3. Screen-Detected vs Non-Screen-Detected",
          "",
          "",
          "",
          "Fibroblasts<br>Subtopics:<br>1. Esophageal Cancer",
          "",
          "Cellular Senescence<br>Subtopics:<br>1. Metformin",
          "",
          "Pancreatic Cancer<br>Subtopics:<br>1. SCP Characteristics",
          "",
          "SCP<br>Subtopics:<br>1. Molecular Alterations",
          "",
          "HCC<br>Subtopics:<br>1. CANX Regulation<br>2. DHA Inhibition",
          "",
          "",
          "Psychosocial Interventions<br>Subtopics:<br>1. Sexual Health in Pelvic Cancer",
          "",
          "Older Breast Cancer Patients<br>Subtopics:<br>1. Clinical Trials",
          "",
          "",
          "PCM4EU and PRIME-ROSE<br>Subtopics:<br>1. Precision Cancer Medicine",
          "",
          "Methylphenidate<br>Subtopics:<br>1. Cancer-Related Fatigue",
          "",
          "CGP<br>Subtopics:<br>1. Precision Cancer Medicine in Hungary",
          "",
          "Prostate Cancer<br>Subtopics:<br>1. Older Men Treatments",
          "",
          "Cancer Survivors<br>Subtopics:<br>1. Late Effects Management",
          "",
          "SMNs<br>Subtopics:<br>1. Risk Based on First Primary Cancer",
          "",
          "MOST Trials<br>Subtopics:<br>1. Personalized Medicine",
          "",
          "GIST<br>Subtopics:<br>1. Imatinib Discontinuation",
          "",
          "",
          "Parent Psychological Distress<br>Subtopics:<br>1. Parenting Concerns and Cancer",
          "",
          "CIPN<br>Subtopics:<br>1. NfL and GFAP Biomarkers",
          ""
         ],
         "type": "scatter",
         "x": [
          0.035977104008636136,
          -0.815823678209739,
          0.17663534075430606,
          0.9017717191238345,
          0.18954036542176653,
          -0.49300744180779854,
          0.8203250627404564,
          -0.47760281779265834,
          -0.3265438164851026,
          -0.39033844269725854,
          -0.9670072894456383,
          -0.5193376346643631,
          -0.2261532770152973,
          0.20457523914221362,
          -0.11703336926220023,
          -0.1802375362176424,
          -0.676433877096937,
          0.2397028732693019,
          0.8022532257382127,
          -0.2138156648470564,
          -0.6212183999181725,
          -0.8488124068814898,
          -0.4021589695251469,
          0.2775340393365735,
          0.281273536533364,
          0.6638790226617742,
          -0.2838097199527122,
          -0.5646687498006581,
          -0.9093960490352535,
          -0.07392568636454182,
          0.5025138948787166,
          0.8898026530427973,
          1,
          -0.04169218822312769,
          -0.733694433949304,
          0.587630667636766,
          0.3639465962994026,
          0.9041383857131824,
          0.9640191929215902,
          -0.18168043712511237,
          -0.9422142171738717,
          -0.17082747667269774,
          0.5594561923710885,
          -0.2886486041821037,
          -0.3809023553601917,
          -0.4482043388168226,
          -0.9036652991271512,
          0.5264413457538055,
          0.3478573896206761,
          -0.7781729680626812,
          -0.7139481601704551,
          0.48577226757729264,
          0.8884518605678112,
          0.04591825801700093,
          0.1706051436249112,
          0.6689730635786298,
          -0.24028893626407297,
          -0.9164453755240274,
          0.4621492522500095,
          0.21804161680576606,
          0.9210847954016079,
          0.7225565401230171,
          0.864436269627882,
          0.17617979982296944,
          -0.1404746703015807,
          0.1799466043099177,
          0.9681484174139728,
          0.6287810261117975,
          0.39557839516749443,
          0.7894925767158085,
          0.9910258534570958,
          -0.15091940283853494,
          -0.7263643709820528,
          -0.09240915762741626,
          -0.8155554283057701,
          -0.424738436180823,
          -0.837789297217729,
          -0.6265751034503381,
          -0.32164713308296206,
          -0.8322329698829553
         ],
         "y": [
          -0.45587452414463286,
          -0.4902703990713812,
          -0.9824037267213329,
          -0.15183049229105997,
          0.13730820925829268,
          0.8429106711776959,
          -0.6214254154975721,
          -0.3029123935140846,
          -0.8442883817238885,
          -0.581134101556703,
          -0.07253051453557349,
          -0.7811285175815335,
          0.9224579301142304,
          0.9713003948467537,
          0.9589242645488804,
          0.9135912874353299,
          0.7418675978994721,
          -0.07219793869748742,
          0.6422327279403859,
          -0.8913779093471487,
          -0.0706188615471335,
          0.532005706105593,
          -0.5498320709332958,
          -0.2489829825587332,
          -0.9127125929561328,
          -0.6467495670286406,
          0.09669727154390115,
          0.7278209195341148,
          -0.29983098203719055,
          -0.12909431035582059,
          -0.8566607081566945,
          -0.3863612858666364,
          0.07326483752717552,
          -0.7357347459269922,
          -0.679263083496162,
          -0.773145312373476,
          0.018019426276232618,
          -0.34159503638439875,
          0.3484617310889296,
          0.07002926083266937,
          0.09721483639143931,
          -0.943750685823883,
          0.8305882575696518,
          -0.08269396489121578,
          0.9034732836025758,
          0.23625036942130848,
          -0.1890277672498671,
          0.5501459973399105,
          0.934455646636413,
          0.44071054201693366,
          0.6028646342558415,
          0.40917509299085847,
          0.4186981390405802,
          0.8648666321122138,
          0.6980495057131959,
          0.7818785891219635,
          -0.11017402236442364,
          0.2558038635274516,
          0.8952295415683917,
          0.2624604558168515,
          0.21780874515575083,
          0.6625691693606413,
          0.5331410347096309,
          0.8529386617658051,
          0.9651511359898602,
          -0.2563060628248224,
          -0.2675046066178281,
          -0.28090396527141104,
          -0.905519332368604,
          -0.535607795325735,
          -0.09783308003434583,
          -0.9565443257329901,
          -0.5857689451453264,
          -0.35687783148948193,
          -0.36860682108456155,
          -0.8713177684486829,
          -0.11626920269470523,
          -0.7566372176415381,
          0.28861402110927264,
          -0.13968114203307128
         ]
        }
       ],
       "layout": {
        "annotations": [
         {
          "arrowcolor": "rgba(150, 150, 150, 0.6)",
          "arrowhead": 2,
          "arrowsize": 2.5,
          "arrowwidth": 2,
          "ax": 0.035977104008636136,
          "axref": "x",
          "ay": -0.45587452414463286,
          "ayref": "y",
          "showarrow": true,
          "x": -0.815823678209739,
          "xref": "x",
          "y": -0.4902703990713812,
          "yref": "y"
         },
         {
          "arrowcolor": "rgba(150, 150, 150, 0.6)",
          "arrowhead": 2,
          "arrowsize": 2.5,
          "arrowwidth": 2,
          "ax": 0.035977104008636136,
          "axref": "x",
          "ay": -0.45587452414463286,
          "ayref": "y",
          "showarrow": true,
          "x": 0.17663534075430606,
          "xref": "x",
          "y": -0.9824037267213329,
          "yref": "y"
         },
         {
          "arrowcolor": "rgba(150, 150, 150, 0.6)",
          "arrowhead": 2,
          "arrowsize": 2.5,
          "arrowwidth": 2,
          "ax": 0.035977104008636136,
          "axref": "x",
          "ay": -0.45587452414463286,
          "ayref": "y",
          "showarrow": true,
          "x": 0.9017717191238345,
          "xref": "x",
          "y": -0.15183049229105997,
          "yref": "y"
         },
         {
          "arrowcolor": "rgba(150, 150, 150, 0.6)",
          "arrowhead": 2,
          "arrowsize": 2.5,
          "arrowwidth": 2,
          "ax": 0.18954036542176653,
          "axref": "x",
          "ay": 0.13730820925829268,
          "ayref": "y",
          "showarrow": true,
          "x": -0.49300744180779854,
          "xref": "x",
          "y": 0.8429106711776959,
          "yref": "y"
         },
         {
          "arrowcolor": "rgba(150, 150, 150, 0.6)",
          "arrowhead": 2,
          "arrowsize": 2.5,
          "arrowwidth": 2,
          "ax": 0.18954036542176653,
          "axref": "x",
          "ay": 0.13730820925829268,
          "ayref": "y",
          "showarrow": true,
          "x": 0.8203250627404564,
          "xref": "x",
          "y": -0.6214254154975721,
          "yref": "y"
         },
         {
          "arrowcolor": "rgba(150, 150, 150, 0.6)",
          "arrowhead": 2,
          "arrowsize": 2.5,
          "arrowwidth": 2,
          "ax": -0.47760281779265834,
          "axref": "x",
          "ay": -0.3029123935140846,
          "ayref": "y",
          "showarrow": true,
          "x": -0.3265438164851026,
          "xref": "x",
          "y": -0.8442883817238885,
          "yref": "y"
         },
         {
          "arrowcolor": "rgba(150, 150, 150, 0.6)",
          "arrowhead": 2,
          "arrowsize": 2.5,
          "arrowwidth": 2,
          "ax": -0.39033844269725854,
          "axref": "x",
          "ay": -0.581134101556703,
          "ayref": "y",
          "showarrow": true,
          "x": -0.9670072894456383,
          "xref": "x",
          "y": -0.07253051453557349,
          "yref": "y"
         },
         {
          "arrowcolor": "rgba(150, 150, 150, 0.6)",
          "arrowhead": 2,
          "arrowsize": 2.5,
          "arrowwidth": 2,
          "ax": -0.39033844269725854,
          "axref": "x",
          "ay": -0.581134101556703,
          "ayref": "y",
          "showarrow": true,
          "x": -0.5193376346643631,
          "xref": "x",
          "y": -0.7811285175815335,
          "yref": "y"
         },
         {
          "arrowcolor": "rgba(150, 150, 150, 0.6)",
          "arrowhead": 2,
          "arrowsize": 2.5,
          "arrowwidth": 2,
          "ax": -0.2261532770152973,
          "axref": "x",
          "ay": 0.9224579301142304,
          "ayref": "y",
          "showarrow": true,
          "x": 0.20457523914221362,
          "xref": "x",
          "y": 0.9713003948467537,
          "yref": "y"
         },
         {
          "arrowcolor": "rgba(150, 150, 150, 0.6)",
          "arrowhead": 2,
          "arrowsize": 2.5,
          "arrowwidth": 2,
          "ax": -0.11703336926220023,
          "axref": "x",
          "ay": 0.9589242645488804,
          "ayref": "y",
          "showarrow": true,
          "x": -0.1802375362176424,
          "xref": "x",
          "y": 0.9135912874353299,
          "yref": "y"
         },
         {
          "arrowcolor": "rgba(150, 150, 150, 0.6)",
          "arrowhead": 2,
          "arrowsize": 2.5,
          "arrowwidth": 2,
          "ax": -0.11703336926220023,
          "axref": "x",
          "ay": 0.9589242645488804,
          "ayref": "y",
          "showarrow": true,
          "x": -0.676433877096937,
          "xref": "x",
          "y": 0.7418675978994721,
          "yref": "y"
         },
         {
          "arrowcolor": "rgba(150, 150, 150, 0.6)",
          "arrowhead": 2,
          "arrowsize": 2.5,
          "arrowwidth": 2,
          "ax": 0.2397028732693019,
          "axref": "x",
          "ay": -0.07219793869748742,
          "ayref": "y",
          "showarrow": true,
          "x": 0.8022532257382127,
          "xref": "x",
          "y": 0.6422327279403859,
          "yref": "y"
         },
         {
          "arrowcolor": "rgba(150, 150, 150, 0.6)",
          "arrowhead": 2,
          "arrowsize": 2.5,
          "arrowwidth": 2,
          "ax": 0.2397028732693019,
          "axref": "x",
          "ay": -0.07219793869748742,
          "ayref": "y",
          "showarrow": true,
          "x": -0.2138156648470564,
          "xref": "x",
          "y": -0.8913779093471487,
          "yref": "y"
         },
         {
          "arrowcolor": "rgba(150, 150, 150, 0.6)",
          "arrowhead": 2,
          "arrowsize": 2.5,
          "arrowwidth": 2,
          "ax": 0.2397028732693019,
          "axref": "x",
          "ay": -0.07219793869748742,
          "ayref": "y",
          "showarrow": true,
          "x": -0.17082747667269774,
          "xref": "x",
          "y": -0.943750685823883,
          "yref": "y"
         },
         {
          "arrowcolor": "rgba(150, 150, 150, 0.6)",
          "arrowhead": 2,
          "arrowsize": 2.5,
          "arrowwidth": 2,
          "ax": 0.2397028732693019,
          "axref": "x",
          "ay": -0.07219793869748742,
          "ayref": "y",
          "showarrow": true,
          "x": 0.4621492522500095,
          "xref": "x",
          "y": 0.8952295415683917,
          "yref": "y"
         },
         {
          "arrowcolor": "rgba(150, 150, 150, 0.6)",
          "arrowhead": 2,
          "arrowsize": 2.5,
          "arrowwidth": 2,
          "ax": -0.6212183999181725,
          "axref": "x",
          "ay": -0.0706188615471335,
          "ayref": "y",
          "showarrow": true,
          "x": -0.8488124068814898,
          "xref": "x",
          "y": 0.532005706105593,
          "yref": "y"
         },
         {
          "arrowcolor": "rgba(150, 150, 150, 0.6)",
          "arrowhead": 2,
          "arrowsize": 2.5,
          "arrowwidth": 2,
          "ax": -0.6212183999181725,
          "axref": "x",
          "ay": -0.0706188615471335,
          "ayref": "y",
          "showarrow": true,
          "x": -0.4021589695251469,
          "xref": "x",
          "y": -0.5498320709332958,
          "yref": "y"
         },
         {
          "arrowcolor": "rgba(150, 150, 150, 0.6)",
          "arrowhead": 2,
          "arrowsize": 2.5,
          "arrowwidth": 2,
          "ax": 0.2775340393365735,
          "axref": "x",
          "ay": -0.2489829825587332,
          "ayref": "y",
          "showarrow": true,
          "x": 0.281273536533364,
          "xref": "x",
          "y": -0.9127125929561328,
          "yref": "y"
         },
         {
          "arrowcolor": "rgba(150, 150, 150, 0.6)",
          "arrowhead": 2,
          "arrowsize": 2.5,
          "arrowwidth": 2,
          "ax": 0.2775340393365735,
          "axref": "x",
          "ay": -0.2489829825587332,
          "ayref": "y",
          "showarrow": true,
          "x": 0.6638790226617742,
          "xref": "x",
          "y": -0.6467495670286406,
          "yref": "y"
         },
         {
          "arrowcolor": "rgba(150, 150, 150, 0.6)",
          "arrowhead": 2,
          "arrowsize": 2.5,
          "arrowwidth": 2,
          "ax": -0.2838097199527122,
          "axref": "x",
          "ay": 0.09669727154390115,
          "ayref": "y",
          "showarrow": true,
          "x": -0.5646687498006581,
          "xref": "x",
          "y": 0.7278209195341148,
          "yref": "y"
         },
         {
          "arrowcolor": "rgba(150, 150, 150, 0.6)",
          "arrowhead": 2,
          "arrowsize": 2.5,
          "arrowwidth": 2,
          "ax": -0.2838097199527122,
          "axref": "x",
          "ay": 0.09669727154390115,
          "ayref": "y",
          "showarrow": true,
          "x": -0.9093960490352535,
          "xref": "x",
          "y": -0.29983098203719055,
          "yref": "y"
         },
         {
          "arrowcolor": "rgba(150, 150, 150, 0.6)",
          "arrowhead": 2,
          "arrowsize": 2.5,
          "arrowwidth": 2,
          "ax": -0.07392568636454182,
          "axref": "x",
          "ay": -0.12909431035582059,
          "ayref": "y",
          "showarrow": true,
          "x": 0.5025138948787166,
          "xref": "x",
          "y": -0.8566607081566945,
          "yref": "y"
         },
         {
          "arrowcolor": "rgba(150, 150, 150, 0.6)",
          "arrowhead": 2,
          "arrowsize": 2.5,
          "arrowwidth": 2,
          "ax": 0.8898026530427973,
          "axref": "x",
          "ay": -0.3863612858666364,
          "ayref": "y",
          "showarrow": true,
          "x": 1,
          "xref": "x",
          "y": 0.07326483752717552,
          "yref": "y"
         },
         {
          "arrowcolor": "rgba(150, 150, 150, 0.6)",
          "arrowhead": 2,
          "arrowsize": 2.5,
          "arrowwidth": 2,
          "ax": -0.04169218822312769,
          "axref": "x",
          "ay": -0.7357347459269922,
          "ayref": "y",
          "showarrow": true,
          "x": -0.733694433949304,
          "xref": "x",
          "y": -0.679263083496162,
          "yref": "y"
         },
         {
          "arrowcolor": "rgba(150, 150, 150, 0.6)",
          "arrowhead": 2,
          "arrowsize": 2.5,
          "arrowwidth": 2,
          "ax": -0.04169218822312769,
          "axref": "x",
          "ay": -0.7357347459269922,
          "ayref": "y",
          "showarrow": true,
          "x": 0.587630667636766,
          "xref": "x",
          "y": -0.773145312373476,
          "yref": "y"
         },
         {
          "arrowcolor": "rgba(150, 150, 150, 0.6)",
          "arrowhead": 2,
          "arrowsize": 2.5,
          "arrowwidth": 2,
          "ax": 0.3639465962994026,
          "axref": "x",
          "ay": 0.018019426276232618,
          "ayref": "y",
          "showarrow": true,
          "x": 0.9041383857131824,
          "xref": "x",
          "y": -0.34159503638439875,
          "yref": "y"
         },
         {
          "arrowcolor": "rgba(150, 150, 150, 0.6)",
          "arrowhead": 2,
          "arrowsize": 2.5,
          "arrowwidth": 2,
          "ax": 0.3639465962994026,
          "axref": "x",
          "ay": 0.018019426276232618,
          "ayref": "y",
          "showarrow": true,
          "x": 0.9640191929215902,
          "xref": "x",
          "y": 0.3484617310889296,
          "yref": "y"
         },
         {
          "arrowcolor": "rgba(150, 150, 150, 0.6)",
          "arrowhead": 2,
          "arrowsize": 2.5,
          "arrowwidth": 2,
          "ax": -0.18168043712511237,
          "axref": "x",
          "ay": 0.07002926083266937,
          "ayref": "y",
          "showarrow": true,
          "x": -0.9422142171738717,
          "xref": "x",
          "y": 0.09721483639143931,
          "yref": "y"
         },
         {
          "arrowcolor": "rgba(150, 150, 150, 0.6)",
          "arrowhead": 2,
          "arrowsize": 2.5,
          "arrowwidth": 2,
          "ax": -0.18168043712511237,
          "axref": "x",
          "ay": 0.07002926083266937,
          "ayref": "y",
          "showarrow": true,
          "x": 0.5594561923710885,
          "xref": "x",
          "y": 0.8305882575696518,
          "yref": "y"
         },
         {
          "arrowcolor": "rgba(150, 150, 150, 0.6)",
          "arrowhead": 2,
          "arrowsize": 2.5,
          "arrowwidth": 2,
          "ax": -0.18168043712511237,
          "axref": "x",
          "ay": 0.07002926083266937,
          "ayref": "y",
          "showarrow": true,
          "x": -0.424738436180823,
          "xref": "x",
          "y": -0.8713177684486829,
          "yref": "y"
         },
         {
          "arrowcolor": "rgba(150, 150, 150, 0.6)",
          "arrowhead": 2,
          "arrowsize": 2.5,
          "arrowwidth": 2,
          "ax": -0.2886486041821037,
          "axref": "x",
          "ay": -0.08269396489121578,
          "ayref": "y",
          "showarrow": true,
          "x": -0.3809023553601917,
          "xref": "x",
          "y": 0.9034732836025758,
          "yref": "y"
         },
         {
          "arrowcolor": "rgba(150, 150, 150, 0.6)",
          "arrowhead": 2,
          "arrowsize": 2.5,
          "arrowwidth": 2,
          "ax": -0.4482043388168226,
          "axref": "x",
          "ay": 0.23625036942130848,
          "ayref": "y",
          "showarrow": true,
          "x": -0.9036652991271512,
          "xref": "x",
          "y": -0.1890277672498671,
          "yref": "y"
         },
         {
          "arrowcolor": "rgba(150, 150, 150, 0.6)",
          "arrowhead": 2,
          "arrowsize": 2.5,
          "arrowwidth": 2,
          "ax": 0.5264413457538055,
          "axref": "x",
          "ay": 0.5501459973399105,
          "ayref": "y",
          "showarrow": true,
          "x": 0.3478573896206761,
          "xref": "x",
          "y": 0.934455646636413,
          "yref": "y"
         },
         {
          "arrowcolor": "rgba(150, 150, 150, 0.6)",
          "arrowhead": 2,
          "arrowsize": 2.5,
          "arrowwidth": 2,
          "ax": -0.7781729680626812,
          "axref": "x",
          "ay": 0.44071054201693366,
          "ayref": "y",
          "showarrow": true,
          "x": -0.7139481601704551,
          "xref": "x",
          "y": 0.6028646342558415,
          "yref": "y"
         },
         {
          "arrowcolor": "rgba(150, 150, 150, 0.6)",
          "arrowhead": 2,
          "arrowsize": 2.5,
          "arrowwidth": 2,
          "ax": 0.48577226757729264,
          "axref": "x",
          "ay": 0.40917509299085847,
          "ayref": "y",
          "showarrow": true,
          "x": 0.8884518605678112,
          "xref": "x",
          "y": 0.4186981390405802,
          "yref": "y"
         },
         {
          "arrowcolor": "rgba(150, 150, 150, 0.6)",
          "arrowhead": 2,
          "arrowsize": 2.5,
          "arrowwidth": 2,
          "ax": 0.48577226757729264,
          "axref": "x",
          "ay": 0.40917509299085847,
          "ayref": "y",
          "showarrow": true,
          "x": 0.04591825801700093,
          "xref": "x",
          "y": 0.8648666321122138,
          "yref": "y"
         },
         {
          "arrowcolor": "rgba(150, 150, 150, 0.6)",
          "arrowhead": 2,
          "arrowsize": 2.5,
          "arrowwidth": 2,
          "ax": 0.1706051436249112,
          "axref": "x",
          "ay": 0.6980495057131959,
          "ayref": "y",
          "showarrow": true,
          "x": 0.6689730635786298,
          "xref": "x",
          "y": 0.7818785891219635,
          "yref": "y"
         },
         {
          "arrowcolor": "rgba(150, 150, 150, 0.6)",
          "arrowhead": 2,
          "arrowsize": 2.5,
          "arrowwidth": 2,
          "ax": -0.24028893626407297,
          "axref": "x",
          "ay": -0.11017402236442364,
          "ayref": "y",
          "showarrow": true,
          "x": -0.9164453755240274,
          "xref": "x",
          "y": 0.2558038635274516,
          "yref": "y"
         },
         {
          "arrowcolor": "rgba(150, 150, 150, 0.6)",
          "arrowhead": 2,
          "arrowsize": 2.5,
          "arrowwidth": 2,
          "ax": 0.21804161680576606,
          "axref": "x",
          "ay": 0.2624604558168515,
          "ayref": "y",
          "showarrow": true,
          "x": 0.9210847954016079,
          "xref": "x",
          "y": 0.21780874515575083,
          "yref": "y"
         },
         {
          "arrowcolor": "rgba(150, 150, 150, 0.6)",
          "arrowhead": 2,
          "arrowsize": 2.5,
          "arrowwidth": 2,
          "ax": 0.7225565401230171,
          "axref": "x",
          "ay": 0.6625691693606413,
          "ayref": "y",
          "showarrow": true,
          "x": 0.864436269627882,
          "xref": "x",
          "y": 0.5331410347096309,
          "yref": "y"
         },
         {
          "arrowcolor": "rgba(150, 150, 150, 0.6)",
          "arrowhead": 2,
          "arrowsize": 2.5,
          "arrowwidth": 2,
          "ax": 0.17617979982296944,
          "axref": "x",
          "ay": 0.8529386617658051,
          "ayref": "y",
          "showarrow": true,
          "x": -0.1404746703015807,
          "xref": "x",
          "y": 0.9651511359898602,
          "yref": "y"
         },
         {
          "arrowcolor": "rgba(150, 150, 150, 0.6)",
          "arrowhead": 2,
          "arrowsize": 2.5,
          "arrowwidth": 2,
          "ax": 0.1799466043099177,
          "axref": "x",
          "ay": -0.2563060628248224,
          "ayref": "y",
          "showarrow": true,
          "x": 0.9681484174139728,
          "xref": "x",
          "y": -0.2675046066178281,
          "yref": "y"
         },
         {
          "arrowcolor": "rgba(150, 150, 150, 0.6)",
          "arrowhead": 2,
          "arrowsize": 2.5,
          "arrowwidth": 2,
          "ax": 0.6287810261117975,
          "axref": "x",
          "ay": -0.28090396527141104,
          "ayref": "y",
          "showarrow": true,
          "x": 0.39557839516749443,
          "xref": "x",
          "y": -0.905519332368604,
          "yref": "y"
         },
         {
          "arrowcolor": "rgba(150, 150, 150, 0.6)",
          "arrowhead": 2,
          "arrowsize": 2.5,
          "arrowwidth": 2,
          "ax": 0.7894925767158085,
          "axref": "x",
          "ay": -0.535607795325735,
          "ayref": "y",
          "showarrow": true,
          "x": 0.9910258534570958,
          "xref": "x",
          "y": -0.09783308003434583,
          "yref": "y"
         },
         {
          "arrowcolor": "rgba(150, 150, 150, 0.6)",
          "arrowhead": 2,
          "arrowsize": 2.5,
          "arrowwidth": 2,
          "ax": -0.15091940283853494,
          "axref": "x",
          "ay": -0.9565443257329901,
          "ayref": "y",
          "showarrow": true,
          "x": -0.7263643709820528,
          "xref": "x",
          "y": -0.5857689451453264,
          "yref": "y"
         },
         {
          "arrowcolor": "rgba(150, 150, 150, 0.6)",
          "arrowhead": 2,
          "arrowsize": 2.5,
          "arrowwidth": 2,
          "ax": -0.09240915762741626,
          "axref": "x",
          "ay": -0.35687783148948193,
          "ayref": "y",
          "showarrow": true,
          "x": -0.8155554283057701,
          "xref": "x",
          "y": -0.36860682108456155,
          "yref": "y"
         },
         {
          "arrowcolor": "rgba(150, 150, 150, 0.6)",
          "arrowhead": 2,
          "arrowsize": 2.5,
          "arrowwidth": 2,
          "ax": -0.837789297217729,
          "axref": "x",
          "ay": -0.11626920269470523,
          "ayref": "y",
          "showarrow": true,
          "x": -0.6265751034503381,
          "xref": "x",
          "y": -0.7566372176415381,
          "yref": "y"
         },
         {
          "arrowcolor": "rgba(150, 150, 150, 0.6)",
          "arrowhead": 2,
          "arrowsize": 2.5,
          "arrowwidth": 2,
          "ax": -0.32164713308296206,
          "axref": "x",
          "ay": 0.28861402110927264,
          "ayref": "y",
          "showarrow": true,
          "x": -0.8322329698829553,
          "xref": "x",
          "y": -0.13968114203307128,
          "yref": "y"
         }
        ],
        "height": 1000,
        "hovermode": "closest",
        "margin": {
         "b": 20,
         "l": 5,
         "r": 5,
         "t": 40
        },
        "paper_bgcolor": "rgba(0,0,0,0)",
        "plot_bgcolor": "rgba(0,0,0,0)",
        "showlegend": false,
        "template": {
         "data": {
          "candlestick": [
           {
            "decreasing": {
             "line": {
              "color": "#000033"
             }
            },
            "increasing": {
             "line": {
              "color": "#000032"
             }
            },
            "type": "candlestick"
           }
          ],
          "contour": [
           {
            "colorscale": [
             [
              0,
              "#000011"
             ],
             [
              0.1111111111111111,
              "#000012"
             ],
             [
              0.2222222222222222,
              "#000013"
             ],
             [
              0.3333333333333333,
              "#000014"
             ],
             [
              0.4444444444444444,
              "#000015"
             ],
             [
              0.5555555555555556,
              "#000016"
             ],
             [
              0.6666666666666666,
              "#000017"
             ],
             [
              0.7777777777777778,
              "#000018"
             ],
             [
              0.8888888888888888,
              "#000019"
             ],
             [
              1,
              "#000020"
             ]
            ],
            "type": "contour"
           }
          ],
          "contourcarpet": [
           {
            "colorscale": [
             [
              0,
              "#000011"
             ],
             [
              0.1111111111111111,
              "#000012"
             ],
             [
              0.2222222222222222,
              "#000013"
             ],
             [
              0.3333333333333333,
              "#000014"
             ],
             [
              0.4444444444444444,
              "#000015"
             ],
             [
              0.5555555555555556,
              "#000016"
             ],
             [
              0.6666666666666666,
              "#000017"
             ],
             [
              0.7777777777777778,
              "#000018"
             ],
             [
              0.8888888888888888,
              "#000019"
             ],
             [
              1,
              "#000020"
             ]
            ],
            "type": "contourcarpet"
           }
          ],
          "heatmap": [
           {
            "colorscale": [
             [
              0,
              "#000011"
             ],
             [
              0.1111111111111111,
              "#000012"
             ],
             [
              0.2222222222222222,
              "#000013"
             ],
             [
              0.3333333333333333,
              "#000014"
             ],
             [
              0.4444444444444444,
              "#000015"
             ],
             [
              0.5555555555555556,
              "#000016"
             ],
             [
              0.6666666666666666,
              "#000017"
             ],
             [
              0.7777777777777778,
              "#000018"
             ],
             [
              0.8888888888888888,
              "#000019"
             ],
             [
              1,
              "#000020"
             ]
            ],
            "type": "heatmap"
           }
          ],
          "histogram2d": [
           {
            "colorscale": [
             [
              0,
              "#000011"
             ],
             [
              0.1111111111111111,
              "#000012"
             ],
             [
              0.2222222222222222,
              "#000013"
             ],
             [
              0.3333333333333333,
              "#000014"
             ],
             [
              0.4444444444444444,
              "#000015"
             ],
             [
              0.5555555555555556,
              "#000016"
             ],
             [
              0.6666666666666666,
              "#000017"
             ],
             [
              0.7777777777777778,
              "#000018"
             ],
             [
              0.8888888888888888,
              "#000019"
             ],
             [
              1,
              "#000020"
             ]
            ],
            "type": "histogram2d"
           }
          ],
          "icicle": [
           {
            "textfont": {
             "color": "white"
            },
            "type": "icicle"
           }
          ],
          "sankey": [
           {
            "textfont": {
             "color": "#000036"
            },
            "type": "sankey"
           }
          ],
          "scatter": [
           {
            "marker": {
             "line": {
              "width": 0
             }
            },
            "type": "scatter"
           }
          ],
          "table": [
           {
            "cells": {
             "fill": {
              "color": "#000038"
             },
             "font": {
              "color": "#000037"
             },
             "line": {
              "color": "#000039"
             }
            },
            "header": {
             "fill": {
              "color": "#000040"
             },
             "font": {
              "color": "#000036"
             },
             "line": {
              "color": "#000039"
             }
            },
            "type": "table"
           }
          ],
          "waterfall": [
           {
            "connector": {
             "line": {
              "color": "#000036",
              "width": 2
             }
            },
            "decreasing": {
             "marker": {
              "color": "#000033"
             }
            },
            "increasing": {
             "marker": {
              "color": "#000032"
             }
            },
            "totals": {
             "marker": {
              "color": "#000034"
             }
            },
            "type": "waterfall"
           }
          ]
         },
         "layout": {
          "coloraxis": {
           "colorscale": [
            [
             0,
             "#000011"
            ],
            [
             0.1111111111111111,
             "#000012"
            ],
            [
             0.2222222222222222,
             "#000013"
            ],
            [
             0.3333333333333333,
             "#000014"
            ],
            [
             0.4444444444444444,
             "#000015"
            ],
            [
             0.5555555555555556,
             "#000016"
            ],
            [
             0.6666666666666666,
             "#000017"
            ],
            [
             0.7777777777777778,
             "#000018"
            ],
            [
             0.8888888888888888,
             "#000019"
            ],
            [
             1,
             "#000020"
            ]
           ]
          },
          "colorscale": {
           "diverging": [
            [
             0,
             "#000021"
            ],
            [
             0.1,
             "#000022"
            ],
            [
             0.2,
             "#000023"
            ],
            [
             0.3,
             "#000024"
            ],
            [
             0.4,
             "#000025"
            ],
            [
             0.5,
             "#000026"
            ],
            [
             0.6,
             "#000027"
            ],
            [
             0.7,
             "#000028"
            ],
            [
             0.8,
             "#000029"
            ],
            [
             0.9,
             "#000030"
            ],
            [
             1,
             "#000031"
            ]
           ],
           "sequential": [
            [
             0,
             "#000011"
            ],
            [
             0.1111111111111111,
             "#000012"
            ],
            [
             0.2222222222222222,
             "#000013"
            ],
            [
             0.3333333333333333,
             "#000014"
            ],
            [
             0.4444444444444444,
             "#000015"
            ],
            [
             0.5555555555555556,
             "#000016"
            ],
            [
             0.6666666666666666,
             "#000017"
            ],
            [
             0.7777777777777778,
             "#000018"
            ],
            [
             0.8888888888888888,
             "#000019"
            ],
            [
             1,
             "#000020"
            ]
           ],
           "sequentialminus": [
            [
             0,
             "#000011"
            ],
            [
             0.1111111111111111,
             "#000012"
            ],
            [
             0.2222222222222222,
             "#000013"
            ],
            [
             0.3333333333333333,
             "#000014"
            ],
            [
             0.4444444444444444,
             "#000015"
            ],
            [
             0.5555555555555556,
             "#000016"
            ],
            [
             0.6666666666666666,
             "#000017"
            ],
            [
             0.7777777777777778,
             "#000018"
            ],
            [
             0.8888888888888888,
             "#000019"
            ],
            [
             1,
             "#000020"
            ]
           ]
          },
          "colorway": [
           "#000001",
           "#000002",
           "#000003",
           "#000004",
           "#000005",
           "#000006",
           "#000007",
           "#000008",
           "#000009",
           "#000010"
          ]
         }
        },
        "title": {
         "font": {
          "size": 20
         },
         "text": "Retina-Style Network Graph"
        },
        "width": 1000,
        "xaxis": {
         "showgrid": false,
         "visible": false,
         "zeroline": false
        },
        "yaxis": {
         "showgrid": false,
         "visible": false,
         "zeroline": false
        }
       }
      }
     },
     "metadata": {},
     "output_type": "display_data"
    }
   ],
   "source": [
    "import pandas as pd\n",
    "import networkx as nx\n",
    "import plotly.graph_objs as go\n",
    "import matplotlib.colors as mcolors\n",
    "import itertools\n",
    "\n",
    "# Assuming df is already defined and contains the data\n",
    "\n",
    "G = nx.DiGraph()\n",
    "\n",
    "# Build the graph\n",
    "for index, row in df.iterrows():\n",
    "    G.add_node(row['Main Topic'], type='Main Topic')\n",
    "    G.add_node(row['Subtopic'], type='Subtopic')\n",
    "    G.add_edge(row['Main Topic'], row['Subtopic'])\n",
    "\n",
    "# Generate positions for nodes with adjusted parameters\n",
    "pos = nx.spring_layout(G, iterations=100, k=1)\n",
    "\n",
    "colors = itertools.cycle(mcolors.CSS4_COLORS)\n",
    "\n",
    "node_colors = {}\n",
    "\n",
    "# Assign a unique color to each connected component\n",
    "for component in nx.weakly_connected_components(G):\n",
    "    color = next(colors)\n",
    "    for node in component:\n",
    "        node_colors[node] = color\n",
    "\n",
    "# Create edge traces for Plotly\n",
    "edge_trace = []\n",
    "for edge in G.edges():\n",
    "    x0, y0 = pos[edge[0]]\n",
    "    x1, y1 = pos[edge[1]]\n",
    "    edge_trace.append(go.Scatter(\n",
    "        x=[x0, x1, None],\n",
    "        y=[y0, y1, None],\n",
    "        line=dict(width=2, color='rgba(150, 150, 150, 0.6)'),\n",
    "        hoverinfo='none',\n",
    "        mode='lines'))\n",
    "\n",
    "# Create node traces for Plotly\n",
    "node_trace = go.Scatter(\n",
    "    x=[],\n",
    "    y=[],\n",
    "    text=[],\n",
    "    mode='markers',\n",
    "    hoverinfo='text',\n",
    "    marker=dict(\n",
    "        showscale=False,\n",
    "        size=[], \n",
    "        color=[],\n",
    "        opacity=0.9,\n",
    "        line=dict(width=3, color='rgba(0, 0, 0, 0.5)'),\n",
    "        symbol='circle',\n",
    "    ))\n",
    "\n",
    "# Add the nodes and their positions to the node_trace\n",
    "for node in G.nodes():\n",
    "    x, y = pos[node]\n",
    "    node_trace['x'] += (x,)\n",
    "    node_trace['y'] += (y,)\n",
    "    \n",
    "    # For main topics, set the hover text with subtopics as before\n",
    "    if G.nodes[node]['type'] == 'Main Topic':\n",
    "        subtopics = [f\"{i+1}. {n}\" for i, n in enumerate(G.neighbors(node))]\n",
    "        hover_text = f\"{node}<br>Subtopics:<br>\" + \"<br>\".join(subtopics)\n",
    "        node_trace['text'] += (hover_text,)\n",
    "    else:\n",
    "        node_trace['text'] += ('',)  # Empty hover text for subtopics\n",
    "    \n",
    "    node_size = 25 if G.nodes[node]['type'] == 'Main Topic' else 15\n",
    "    node_trace['marker']['size'] += (node_size,)\n",
    "    \n",
    "    node_color = mcolors.to_rgba(node_colors[node], alpha=0.9)  # Semi-transparent color\n",
    "    node_trace['marker']['color'] += (f\"rgba({node_color[0]*255}, {node_color[1]*255}, {node_color[2]*255}, 0.9)\",)\n",
    "\n",
    "annotations = []\n",
    "for edge in G.edges():\n",
    "    x0, y0 = pos[edge[0]]\n",
    "    x1, y1 = pos[edge[1]]\n",
    "    annotations.append(dict(\n",
    "        ax=x0, ay=y0, axref='x', ayref='y',\n",
    "        x=x1, y=y1, xref='x', yref='y',\n",
    "        showarrow=True,\n",
    "        arrowhead=2,\n",
    "        arrowsize=2.5,\n",
    "        arrowwidth=2,\n",
    "        arrowcolor='rgba(150, 150, 150, 0.6)'\n",
    "    ))\n",
    "\n",
    "# Create and show the figure\n",
    "fig = go.Figure(data=edge_trace + [node_trace],\n",
    "                layout=go.Layout(\n",
    "                    title='Retina-Style Network Graph',\n",
    "                    titlefont_size=20,\n",
    "                    showlegend=False,\n",
    "                    hovermode='closest',\n",
    "                    margin=dict(b=20, l=5, r=5, t=40),\n",
    "                    annotations=annotations,\n",
    "                    xaxis=dict(showgrid=False, zeroline=False, visible=False), \n",
    "                    yaxis=dict(showgrid=False, zeroline=False, visible=False),\n",
    "                    paper_bgcolor='rgba(0,0,0,0)',\n",
    "                    plot_bgcolor='rgba(0,0,0,0)',\n",
    "                    width=1000,\n",
    "                    height=1000\n",
    "                ))\n",
    "\n",
    "fig.show()\n"
   ]
  },
  {
   "cell_type": "code",
   "execution_count": 60,
   "metadata": {},
   "outputs": [
    {
     "data": {
      "application/vnd.plotly.v1+json": {
       "config": {
        "plotlyServerURL": "https://plot.ly"
       },
       "data": [
        {
         "hoverinfo": "none",
         "line": {
          "color": "rgba(240, 248, 255, 0.9)",
          "width": 6
         },
         "mode": "lines",
         "type": "scatter",
         "visible": false,
         "x": [
          0.2558856255103353,
          0.8181465491850929,
          null
         ],
         "y": [
          0.05397216687058968,
          -0.40143667598210775,
          null
         ]
        },
        {
         "hoverinfo": "none",
         "line": {
          "color": "rgba(240, 248, 255, 0.9)",
          "width": 6
         },
         "mode": "lines",
         "type": "scatter",
         "visible": false,
         "x": [
          0.2558856255103353,
          -0.5389252393164189,
          null
         ],
         "y": [
          0.05397216687058968,
          0.859795194746795,
          null
         ]
        },
        {
         "hoverinfo": "none",
         "line": {
          "color": "rgba(240, 248, 255, 0.9)",
          "width": 6
         },
         "mode": "lines",
         "type": "scatter",
         "visible": false,
         "x": [
          0.2558856255103353,
          0.7335439113321947,
          null
         ],
         "y": [
          0.05397216687058968,
          -0.6778540798178325,
          null
         ]
        },
        {
         "hoverinfo": "none",
         "line": {
          "color": "rgba(250, 235, 215, 0.9)",
          "width": 6
         },
         "mode": "lines",
         "type": "scatter",
         "visible": false,
         "x": [
          0.024052355441632985,
          -0.9003588968142776,
          null
         ],
         "y": [
          0.3781383742563593,
          0.4130918567285986,
          null
         ]
        },
        {
         "hoverinfo": "none",
         "line": {
          "color": "rgba(250, 235, 215, 0.9)",
          "width": 6
         },
         "mode": "lines",
         "type": "scatter",
         "visible": false,
         "x": [
          0.024052355441632985,
          0.9422622485821835,
          null
         ],
         "y": [
          0.3781383742563593,
          0.19458986222837069,
          null
         ]
        },
        {
         "hoverinfo": "none",
         "line": {
          "color": "rgba(0, 255, 255, 0.9)",
          "width": 6
         },
         "mode": "lines",
         "type": "scatter",
         "visible": false,
         "x": [
          0.046400857706275785,
          0.8644441551711455,
          null
         ],
         "y": [
          -0.1225485717641039,
          0.17407374527638877,
          null
         ]
        },
        {
         "hoverinfo": "none",
         "line": {
          "color": "rgba(127, 255, 212, 0.9)",
          "width": 6
         },
         "mode": "lines",
         "type": "scatter",
         "visible": false,
         "x": [
          -0.6178097217288079,
          -0.116215155138696,
          null
         ],
         "y": [
          -0.4422309711356991,
          -0.9444798387261654,
          null
         ]
        },
        {
         "hoverinfo": "none",
         "line": {
          "color": "rgba(127, 255, 212, 0.9)",
          "width": 6
         },
         "mode": "lines",
         "type": "scatter",
         "visible": false,
         "x": [
          -0.6178097217288079,
          -0.8875910670176052,
          null
         ],
         "y": [
          -0.4422309711356991,
          0.23461556579093015,
          null
         ]
        },
        {
         "hoverinfo": "none",
         "line": {
          "color": "rgba(240, 255, 255, 0.9)",
          "width": 6
         },
         "mode": "lines",
         "type": "scatter",
         "visible": false,
         "x": [
          -0.06787772675835198,
          0.4472063337430929,
          null
         ],
         "y": [
          0.9500736946658364,
          0.8316084937784871,
          null
         ]
        },
        {
         "hoverinfo": "none",
         "line": {
          "color": "rgba(245, 245, 220, 0.9)",
          "width": 6
         },
         "mode": "lines",
         "type": "scatter",
         "visible": false,
         "x": [
          -0.5750899024973739,
          -0.20756757431626705,
          null
         ],
         "y": [
          -0.2944966218347284,
          -0.9662725518303749,
          null
         ]
        },
        {
         "hoverinfo": "none",
         "line": {
          "color": "rgba(245, 245, 220, 0.9)",
          "width": 6
         },
         "mode": "lines",
         "type": "scatter",
         "visible": false,
         "x": [
          -0.5750899024973739,
          -0.8029096448906571,
          null
         ],
         "y": [
          -0.2944966218347284,
          0.45383966579322227,
          null
         ]
        },
        {
         "hoverinfo": "none",
         "line": {
          "color": "rgba(255, 228, 196, 0.9)",
          "width": 6
         },
         "mode": "lines",
         "type": "scatter",
         "visible": false,
         "x": [
          0.5170250839016252,
          0.7343466168968876,
          null
         ],
         "y": [
          0.2725660318996055,
          -0.5903477260400684,
          null
         ]
        },
        {
         "hoverinfo": "none",
         "line": {
          "color": "rgba(255, 228, 196, 0.9)",
          "width": 6
         },
         "mode": "lines",
         "type": "scatter",
         "visible": false,
         "x": [
          0.5170250839016252,
          0.10614309100641212,
          null
         ],
         "y": [
          0.2725660318996055,
          0.9554847946741563,
          null
         ]
        },
        {
         "hoverinfo": "none",
         "line": {
          "color": "rgba(255, 228, 196, 0.9)",
          "width": 6
         },
         "mode": "lines",
         "type": "scatter",
         "visible": false,
         "x": [
          0.5170250839016252,
          0.8891025764149124,
          null
         ],
         "y": [
          0.2725660318996055,
          0.014671442327647242,
          null
         ]
        },
        {
         "hoverinfo": "none",
         "line": {
          "color": "rgba(255, 228, 196, 0.9)",
          "width": 6
         },
         "mode": "lines",
         "type": "scatter",
         "visible": false,
         "x": [
          0.5170250839016252,
          0.3329351325585774,
          null
         ],
         "y": [
          0.2725660318996055,
          0.8139294252143072,
          null
         ]
        },
        {
         "hoverinfo": "none",
         "line": {
          "color": "rgba(0, 0, 0, 0.9)",
          "width": 6
         },
         "mode": "lines",
         "type": "scatter",
         "visible": false,
         "x": [
          0.001286397107769364,
          -0.25274114690491456,
          null
         ],
         "y": [
          0.23409934201024948,
          0.8687431243523187,
          null
         ]
        },
        {
         "hoverinfo": "none",
         "line": {
          "color": "rgba(0, 0, 0, 0.9)",
          "width": 6
         },
         "mode": "lines",
         "type": "scatter",
         "visible": false,
         "x": [
          0.001286397107769364,
          0.2936757970136545,
          null
         ],
         "y": [
          0.23409934201024948,
          0.9043752905530473,
          null
         ]
        },
        {
         "hoverinfo": "none",
         "line": {
          "color": "rgba(255, 235, 205, 0.9)",
          "width": 6
         },
         "mode": "lines",
         "type": "scatter",
         "visible": false,
         "x": [
          -0.06695343097945193,
          -0.9238900058707973,
          null
         ],
         "y": [
          0.04530422087449384,
          -0.3855997876681579,
          null
         ]
        },
        {
         "hoverinfo": "none",
         "line": {
          "color": "rgba(255, 235, 205, 0.9)",
          "width": 6
         },
         "mode": "lines",
         "type": "scatter",
         "visible": false,
         "x": [
          -0.06695343097945193,
          0.8448764626399524,
          null
         ],
         "y": [
          0.04530422087449384,
          0.4370717496006064,
          null
         ]
        },
        {
         "hoverinfo": "none",
         "line": {
          "color": "rgba(0, 0, 255, 0.9)",
          "width": 6
         },
         "mode": "lines",
         "type": "scatter",
         "visible": false,
         "x": [
          -0.916723703131682,
          -0.9317537008130308,
          null
         ],
         "y": [
          -0.06949683522712981,
          0.007205879917392839,
          null
         ]
        },
        {
         "hoverinfo": "none",
         "line": {
          "color": "rgba(0, 0, 255, 0.9)",
          "width": 6
         },
         "mode": "lines",
         "type": "scatter",
         "visible": false,
         "x": [
          -0.916723703131682,
          -0.9493057349258428,
          null
         ],
         "y": [
          -0.06949683522712981,
          0.2624112916054649,
          null
         ]
        },
        {
         "hoverinfo": "none",
         "line": {
          "color": "rgba(138, 43, 226, 0.9)",
          "width": 6
         },
         "mode": "lines",
         "type": "scatter",
         "visible": false,
         "x": [
          0.46776345352347926,
          -0.005629154416788389,
          null
         ],
         "y": [
          -0.3424923101069405,
          -0.9609668957049325,
          null
         ]
        },
        {
         "hoverinfo": "none",
         "line": {
          "color": "rgba(165, 42, 42, 0.9)",
          "width": 6
         },
         "mode": "lines",
         "type": "scatter",
         "visible": false,
         "x": [
          -0.8818614553728964,
          -1,
          null
         ],
         "y": [
          -0.38008919414215137,
          0.038250783157050675,
          null
         ]
        },
        {
         "hoverinfo": "none",
         "line": {
          "color": "rgba(222, 184, 135, 0.9)",
          "width": 6
         },
         "mode": "lines",
         "type": "scatter",
         "visible": false,
         "x": [
          -0.057640326400396714,
          -0.7636801209244453,
          null
         ],
         "y": [
          -0.3986266481585667,
          -0.6508875868685311,
          null
         ]
        },
        {
         "hoverinfo": "none",
         "line": {
          "color": "rgba(222, 184, 135, 0.9)",
          "width": 6
         },
         "mode": "lines",
         "type": "scatter",
         "visible": false,
         "x": [
          -0.057640326400396714,
          0.29537369912342926,
          null
         ],
         "y": [
          -0.3986266481585667,
          -0.9313913502844092,
          null
         ]
        },
        {
         "hoverinfo": "none",
         "line": {
          "color": "rgba(95, 158, 160, 0.9)",
          "width": 6
         },
         "mode": "lines",
         "type": "scatter",
         "visible": false,
         "x": [
          0.48954715625694883,
          0.9329827908656455,
          null
         ],
         "y": [
          0.37143954279616836,
          -0.14983699445660845,
          null
         ]
        },
        {
         "hoverinfo": "none",
         "line": {
          "color": "rgba(95, 158, 160, 0.9)",
          "width": 6
         },
         "mode": "lines",
         "type": "scatter",
         "visible": false,
         "x": [
          0.48954715625694883,
          0.18465158072229076,
          null
         ],
         "y": [
          0.37143954279616836,
          0.8925318382284634,
          null
         ]
        },
        {
         "hoverinfo": "none",
         "line": {
          "color": "rgba(127, 255, 0, 0.9)",
          "width": 6
         },
         "mode": "lines",
         "type": "scatter",
         "visible": false,
         "x": [
          -0.00507430122451189,
          0.18091170151924169,
          null
         ],
         "y": [
          -0.8160669300984299,
          -0.9562114867734343,
          null
         ]
        },
        {
         "hoverinfo": "none",
         "line": {
          "color": "rgba(127, 255, 0, 0.9)",
          "width": 6
         },
         "mode": "lines",
         "type": "scatter",
         "visible": false,
         "x": [
          -0.00507430122451189,
          0.08976293646584028,
          null
         ],
         "y": [
          -0.8160669300984299,
          -0.9337890109148369,
          null
         ]
        },
        {
         "hoverinfo": "none",
         "line": {
          "color": "rgba(127, 255, 0, 0.9)",
          "width": 6
         },
         "mode": "lines",
         "type": "scatter",
         "visible": false,
         "x": [
          -0.00507430122451189,
          -0.45196843991412794,
          null
         ],
         "y": [
          -0.8160669300984299,
          -0.9001864773847172,
          null
         ]
        },
        {
         "hoverinfo": "none",
         "line": {
          "color": "rgba(210, 105, 30, 0.9)",
          "width": 6
         },
         "mode": "lines",
         "type": "scatter",
         "visible": false,
         "x": [
          0.21116340721274884,
          0.7019455367590798,
          null
         ],
         "y": [
          -0.09838655370426999,
          0.48667892317721867,
          null
         ]
        },
        {
         "hoverinfo": "none",
         "line": {
          "color": "rgba(255, 127, 80, 0.9)",
          "width": 6
         },
         "mode": "lines",
         "type": "scatter",
         "visible": false,
         "x": [
          -0.36362555608425745,
          -0.6412094948160929,
          null
         ],
         "y": [
          0.8902509113972373,
          0.759292510924041,
          null
         ]
        },
        {
         "hoverinfo": "none",
         "line": {
          "color": "rgba(100, 149, 237, 0.9)",
          "width": 6
         },
         "mode": "lines",
         "type": "scatter",
         "visible": false,
         "x": [
          0.531991034940089,
          0.014819859397880929,
          null
         ],
         "y": [
          0.7104982084629842,
          0.8954045600126593,
          null
         ]
        },
        {
         "hoverinfo": "none",
         "line": {
          "color": "rgba(255, 248, 220, 0.9)",
          "width": 6
         },
         "mode": "lines",
         "type": "scatter",
         "visible": false,
         "x": [
          0.10734583088857744,
          -0.34089649499964925,
          null
         ],
         "y": [
          -0.3508071431118448,
          -0.9047520664008254,
          null
         ]
        },
        {
         "hoverinfo": "none",
         "line": {
          "color": "rgba(220, 20, 60, 0.9)",
          "width": 6
         },
         "mode": "lines",
         "type": "scatter",
         "visible": false,
         "x": [
          0.09204402310682368,
          0.9238112696603439,
          null
         ],
         "y": [
          -0.3045806051469092,
          -0.29401575743418706,
          null
         ]
        },
        {
         "hoverinfo": "none",
         "line": {
          "color": "rgba(220, 20, 60, 0.9)",
          "width": 6
         },
         "mode": "lines",
         "type": "scatter",
         "visible": false,
         "x": [
          0.09204402310682368,
          0.5413770358032545,
          null
         ],
         "y": [
          -0.3045806051469092,
          -0.7841974480105589,
          null
         ]
        },
        {
         "hoverinfo": "none",
         "line": {
          "color": "rgba(0, 255, 255, 0.9)",
          "width": 6
         },
         "mode": "lines",
         "type": "scatter",
         "visible": false,
         "x": [
          -0.09925286980637554,
          0.8502603635847575,
          null
         ],
         "y": [
          -0.4787796155130054,
          -0.49287894711858043,
          null
         ]
        },
        {
         "hoverinfo": "none",
         "line": {
          "color": "rgba(0, 0, 139, 0.9)",
          "width": 6
         },
         "mode": "lines",
         "type": "scatter",
         "visible": false,
         "x": [
          -0.6144747405002026,
          -0.8087149389370277,
          null
         ],
         "y": [
          0.660710416986606,
          0.5898764393024355,
          null
         ]
        },
        {
         "hoverinfo": "none",
         "line": {
          "color": "rgba(0, 139, 139, 0.9)",
          "width": 6
         },
         "mode": "lines",
         "type": "scatter",
         "visible": false,
         "x": [
          0.6078180820506697,
          0.5673491754553587,
          null
         ],
         "y": [
          0.22907243528777582,
          0.7778487973537548,
          null
         ]
        },
        {
         "hoverinfo": "none",
         "line": {
          "color": "rgba(184, 134, 11, 0.9)",
          "width": 6
         },
         "mode": "lines",
         "type": "scatter",
         "visible": false,
         "x": [
          -0.18936874436472287,
          0.4971301649005968,
          null
         ],
         "y": [
          0.33176647556141137,
          0.7266731557246838,
          null
         ]
        },
        {
         "hoverinfo": "none",
         "line": {
          "color": "rgba(169, 169, 169, 0.9)",
          "width": 6
         },
         "mode": "lines",
         "type": "scatter",
         "visible": false,
         "x": [
          -0.0982316611839396,
          0.24128992883966935,
          null
         ],
         "y": [
          -0.7874274447221323,
          -0.909927028201463,
          null
         ]
        },
        {
         "hoverinfo": "none",
         "line": {
          "color": "rgba(0, 100, 0, 0.9)",
          "width": 6
         },
         "mode": "lines",
         "type": "scatter",
         "visible": false,
         "x": [
          -0.505839190221478,
          -0.9393818879362761,
          null
         ],
         "y": [
          0.1702809082495588,
          -0.25431143055509897,
          null
         ]
        },
        {
         "hoverinfo": "none",
         "line": {
          "color": "rgba(169, 169, 169, 0.9)",
          "width": 6
         },
         "mode": "lines",
         "type": "scatter",
         "visible": false,
         "x": [
          -0.6218057767438213,
          -0.7201594709095456,
          null
         ],
         "y": [
          -0.18576183451664863,
          0.6282800921279647,
          null
         ]
        },
        {
         "hoverinfo": "none",
         "line": {
          "color": "rgba(189, 183, 107, 0.9)",
          "width": 6
         },
         "mode": "lines",
         "type": "scatter",
         "visible": false,
         "x": [
          0.7942479115331225,
          0.7205299729231469,
          null
         ],
         "y": [
          0.14727313843416195,
          0.6517845887285626,
          null
         ]
        },
        {
         "hoverinfo": "none",
         "line": {
          "color": "rgba(139, 0, 139, 0.9)",
          "width": 6
         },
         "mode": "lines",
         "type": "scatter",
         "visible": false,
         "x": [
          0.3627451818973727,
          0.8495421637106388,
          null
         ],
         "y": [
          -0.20893727942978055,
          0.3200583988870489,
          null
         ]
        },
        {
         "hoverinfo": "none",
         "line": {
          "color": "rgba(85, 107, 47, 0.9)",
          "width": 6
         },
         "mode": "lines",
         "type": "scatter",
         "visible": false,
         "x": [
          0.2555201505518583,
          -0.550994537456245,
          null
         ],
         "y": [
          -0.8864419304425112,
          -0.8263086802424027,
          null
         ]
        },
        {
         "hoverinfo": "none",
         "line": {
          "color": "rgba(255, 140, 0, 0.9)",
          "width": 6
         },
         "mode": "lines",
         "type": "scatter",
         "visible": false,
         "x": [
          0.10836559380415689,
          -0.6247662023824782,
          null
         ],
         "y": [
          -0.6465615511310414,
          -0.7262496430790129,
          null
         ]
        },
        {
         "hoverinfo": "none",
         "line": {
          "color": "rgba(153, 50, 204, 0.9)",
          "width": 6
         },
         "mode": "lines",
         "type": "scatter",
         "visible": false,
         "x": [
          -0.40091348927715603,
          -0.030421694732154347,
          null
         ],
         "y": [
          0.8636164205303578,
          0.954383745185185,
          null
         ]
        },
        {
         "hoverinfo": "text",
         "marker": {
          "color": [
           "rgba(240, 248, 255, 0.9)",
           "rgba(240, 248, 255, 0.9)",
           "rgba(240, 248, 255, 0.9)",
           "rgba(240, 248, 255, 0.9)",
           "rgba(250, 235, 215, 0.9)",
           "rgba(250, 235, 215, 0.9)",
           "rgba(250, 235, 215, 0.9)",
           "rgba(0, 255, 255, 0.9)",
           "rgba(0, 255, 255, 0.9)",
           "rgba(127, 255, 212, 0.9)",
           "rgba(127, 255, 212, 0.9)",
           "rgba(127, 255, 212, 0.9)",
           "rgba(240, 255, 255, 0.9)",
           "rgba(240, 255, 255, 0.9)",
           "rgba(245, 245, 220, 0.9)",
           "rgba(245, 245, 220, 0.9)",
           "rgba(245, 245, 220, 0.9)",
           "rgba(255, 228, 196, 0.9)",
           "rgba(255, 228, 196, 0.9)",
           "rgba(255, 228, 196, 0.9)",
           "rgba(0, 0, 0, 0.9)",
           "rgba(0, 0, 0, 0.9)",
           "rgba(0, 0, 0, 0.9)",
           "rgba(255, 235, 205, 0.9)",
           "rgba(255, 235, 205, 0.9)",
           "rgba(255, 235, 205, 0.9)",
           "rgba(0, 0, 255, 0.9)",
           "rgba(0, 0, 255, 0.9)",
           "rgba(0, 0, 255, 0.9)",
           "rgba(138, 43, 226, 0.9)",
           "rgba(138, 43, 226, 0.9)",
           "rgba(165, 42, 42, 0.9)",
           "rgba(165, 42, 42, 0.9)",
           "rgba(222, 184, 135, 0.9)",
           "rgba(222, 184, 135, 0.9)",
           "rgba(222, 184, 135, 0.9)",
           "rgba(95, 158, 160, 0.9)",
           "rgba(95, 158, 160, 0.9)",
           "rgba(95, 158, 160, 0.9)",
           "rgba(127, 255, 0, 0.9)",
           "rgba(127, 255, 0, 0.9)",
           "rgba(255, 228, 196, 0.9)",
           "rgba(127, 255, 0, 0.9)",
           "rgba(210, 105, 30, 0.9)",
           "rgba(210, 105, 30, 0.9)",
           "rgba(255, 127, 80, 0.9)",
           "rgba(255, 127, 80, 0.9)",
           "rgba(100, 149, 237, 0.9)",
           "rgba(100, 149, 237, 0.9)",
           "rgba(255, 248, 220, 0.9)",
           "rgba(255, 248, 220, 0.9)",
           "rgba(220, 20, 60, 0.9)",
           "rgba(220, 20, 60, 0.9)",
           "rgba(220, 20, 60, 0.9)",
           "rgba(0, 255, 255, 0.9)",
           "rgba(0, 255, 255, 0.9)",
           "rgba(0, 0, 139, 0.9)",
           "rgba(0, 0, 139, 0.9)",
           "rgba(255, 228, 196, 0.9)",
           "rgba(0, 139, 139, 0.9)",
           "rgba(0, 139, 139, 0.9)",
           "rgba(184, 134, 11, 0.9)",
           "rgba(184, 134, 11, 0.9)",
           "rgba(169, 169, 169, 0.9)",
           "rgba(169, 169, 169, 0.9)",
           "rgba(0, 100, 0, 0.9)",
           "rgba(0, 100, 0, 0.9)",
           "rgba(169, 169, 169, 0.9)",
           "rgba(169, 169, 169, 0.9)",
           "rgba(189, 183, 107, 0.9)",
           "rgba(189, 183, 107, 0.9)",
           "rgba(139, 0, 139, 0.9)",
           "rgba(139, 0, 139, 0.9)",
           "rgba(85, 107, 47, 0.9)",
           "rgba(85, 107, 47, 0.9)",
           "rgba(127, 255, 0, 0.9)",
           "rgba(255, 140, 0, 0.9)",
           "rgba(255, 140, 0, 0.9)",
           "rgba(153, 50, 204, 0.9)",
           "rgba(153, 50, 204, 0.9)"
          ],
          "line": {
           "color": "rgba(0, 0, 0, 0.5)",
           "width": 3
          },
          "opacity": 0.9,
          "showscale": false,
          "size": [
           30,
           20,
           20,
           20,
           30,
           20,
           20,
           30,
           20,
           30,
           20,
           20,
           30,
           20,
           30,
           20,
           20,
           30,
           20,
           20,
           30,
           20,
           20,
           30,
           20,
           20,
           30,
           20,
           20,
           30,
           20,
           30,
           20,
           30,
           20,
           20,
           30,
           20,
           20,
           30,
           20,
           20,
           20,
           30,
           20,
           30,
           20,
           30,
           20,
           30,
           20,
           30,
           20,
           20,
           30,
           20,
           30,
           20,
           20,
           30,
           20,
           30,
           20,
           30,
           20,
           30,
           20,
           30,
           20,
           30,
           20,
           30,
           20,
           30,
           20,
           20,
           30,
           20,
           30,
           20
          ],
          "symbol": "circle"
         },
         "mode": "markers",
         "text": [
          "Brain Metastasis<br>Subtopics:<br>1. Overall Survival<br>2. Local Control<br>3. Distant Brain Control",
          "",
          "",
          "",
          "Radiotherapy<br>Subtopics:<br>1. WBRT vs Stereotactic<br>2. Postoperative Targeted Radiotherapy",
          "",
          "",
          "Left-sided Breast Cancer<br>Subtopics:<br>1. DIBH Benefits",
          "",
          "DIBH<br>Subtopics:<br>1. Heart and Lung Dose Reduction<br>2. Cardiac Substructures",
          "",
          "",
          "Dosimetry<br>Subtopics:<br>1. MLC Adjustment",
          "",
          "PDIP-AAA<br>Subtopics:<br>1. Treatment Plan Accuracy<br>2. Gamma Passing Rates",
          "",
          "",
          "NSCLC<br>Subtopics:<br>1. Atezolizumab and Varlilumab<br>2. Palliative Radiation<br>3. Cardiac Metastasis<br>4. Proximity to Healthcare",
          "",
          "",
          "TASK-3 Channel<br>Subtopics:<br>1. Anesthetics<br>2. Ovarian Cancer",
          "",
          "",
          "HRQoL<br>Subtopics:<br>1. Rectal Cancer Treatment<br>2. Psychosocial Factors",
          "",
          "",
          "TyG Index<br>Subtopics:<br>1. Mortality in ICU<br>2. Insulin Resistance",
          "",
          "",
          "Radiomics<br>Subtopics:<br>1. HER2-low vs HER2-positive BC",
          "",
          "Machine Learning<br>Subtopics:<br>1. Breast Cancer Diagnosis",
          "",
          "FASN<br>Subtopics:<br>1. Tumor Development<br>2. Immunotherapy",
          "",
          "",
          "Lipoedema<br>Subtopics:<br>1. Tumescent Liposuction<br>2. Quality of Life",
          "",
          "",
          "Breast Cancer<br>Subtopics:<br>1. Heart Failure Risk<br>2. Heart Failure Inpatients<br>3. Screen-Detected vs Non-Screen-Detected",
          "",
          "",
          "",
          "Fibroblasts<br>Subtopics:<br>1. Esophageal Cancer",
          "",
          "Cellular Senescence<br>Subtopics:<br>1. Metformin",
          "",
          "Pancreatic Cancer<br>Subtopics:<br>1. SCP Characteristics",
          "",
          "SCP<br>Subtopics:<br>1. Molecular Alterations",
          "",
          "HCC<br>Subtopics:<br>1. CANX Regulation<br>2. DHA Inhibition",
          "",
          "",
          "Psychosocial Interventions<br>Subtopics:<br>1. Sexual Health in Pelvic Cancer",
          "",
          "Older Breast Cancer Patients<br>Subtopics:<br>1. Clinical Trials",
          "",
          "",
          "PCM4EU and PRIME-ROSE<br>Subtopics:<br>1. Precision Cancer Medicine",
          "",
          "Methylphenidate<br>Subtopics:<br>1. Cancer-Related Fatigue",
          "",
          "CGP<br>Subtopics:<br>1. Precision Cancer Medicine in Hungary",
          "",
          "Prostate Cancer<br>Subtopics:<br>1. Older Men Treatments",
          "",
          "Cancer Survivors<br>Subtopics:<br>1. Late Effects Management",
          "",
          "SMNs<br>Subtopics:<br>1. Risk Based on First Primary Cancer",
          "",
          "MOST Trials<br>Subtopics:<br>1. Personalized Medicine",
          "",
          "GIST<br>Subtopics:<br>1. Imatinib Discontinuation",
          "",
          "",
          "Parent Psychological Distress<br>Subtopics:<br>1. Parenting Concerns and Cancer",
          "",
          "CIPN<br>Subtopics:<br>1. NfL and GFAP Biomarkers",
          ""
         ],
         "type": "scatter",
         "x": [
          0.2558856255103353,
          0.8181465491850929,
          -0.5389252393164189,
          0.7335439113321947,
          0.024052355441632985,
          -0.9003588968142776,
          0.9422622485821835,
          0.046400857706275785,
          0.8644441551711455,
          -0.6178097217288079,
          -0.116215155138696,
          -0.8875910670176052,
          -0.06787772675835198,
          0.4472063337430929,
          -0.5750899024973739,
          -0.20756757431626705,
          -0.8029096448906571,
          0.5170250839016252,
          0.7343466168968876,
          0.10614309100641212,
          0.001286397107769364,
          -0.25274114690491456,
          0.2936757970136545,
          -0.06695343097945193,
          -0.9238900058707973,
          0.8448764626399524,
          -0.916723703131682,
          -0.9317537008130308,
          -0.9493057349258428,
          0.46776345352347926,
          -0.005629154416788389,
          -0.8818614553728964,
          -1,
          -0.057640326400396714,
          -0.7636801209244453,
          0.29537369912342926,
          0.48954715625694883,
          0.9329827908656455,
          0.18465158072229076,
          -0.00507430122451189,
          0.18091170151924169,
          0.8891025764149124,
          0.08976293646584028,
          0.21116340721274884,
          0.7019455367590798,
          -0.36362555608425745,
          -0.6412094948160929,
          0.531991034940089,
          0.014819859397880929,
          0.10734583088857744,
          -0.34089649499964925,
          0.09204402310682368,
          0.9238112696603439,
          0.5413770358032545,
          -0.09925286980637554,
          0.8502603635847575,
          -0.6144747405002026,
          -0.8087149389370277,
          0.3329351325585774,
          0.6078180820506697,
          0.5673491754553587,
          -0.18936874436472287,
          0.4971301649005968,
          -0.0982316611839396,
          0.24128992883966935,
          -0.505839190221478,
          -0.9393818879362761,
          -0.6218057767438213,
          -0.7201594709095456,
          0.7942479115331225,
          0.7205299729231469,
          0.3627451818973727,
          0.8495421637106388,
          0.2555201505518583,
          -0.550994537456245,
          -0.45196843991412794,
          0.10836559380415689,
          -0.6247662023824782,
          -0.40091348927715603,
          -0.030421694732154347
         ],
         "y": [
          0.05397216687058968,
          -0.40143667598210775,
          0.859795194746795,
          -0.6778540798178325,
          0.3781383742563593,
          0.4130918567285986,
          0.19458986222837069,
          -0.1225485717641039,
          0.17407374527638877,
          -0.4422309711356991,
          -0.9444798387261654,
          0.23461556579093015,
          0.9500736946658364,
          0.8316084937784871,
          -0.2944966218347284,
          -0.9662725518303749,
          0.45383966579322227,
          0.2725660318996055,
          -0.5903477260400684,
          0.9554847946741563,
          0.23409934201024948,
          0.8687431243523187,
          0.9043752905530473,
          0.04530422087449384,
          -0.3855997876681579,
          0.4370717496006064,
          -0.06949683522712981,
          0.007205879917392839,
          0.2624112916054649,
          -0.3424923101069405,
          -0.9609668957049325,
          -0.38008919414215137,
          0.038250783157050675,
          -0.3986266481585667,
          -0.6508875868685311,
          -0.9313913502844092,
          0.37143954279616836,
          -0.14983699445660845,
          0.8925318382284634,
          -0.8160669300984299,
          -0.9562114867734343,
          0.014671442327647242,
          -0.9337890109148369,
          -0.09838655370426999,
          0.48667892317721867,
          0.8902509113972373,
          0.759292510924041,
          0.7104982084629842,
          0.8954045600126593,
          -0.3508071431118448,
          -0.9047520664008254,
          -0.3045806051469092,
          -0.29401575743418706,
          -0.7841974480105589,
          -0.4787796155130054,
          -0.49287894711858043,
          0.660710416986606,
          0.5898764393024355,
          0.8139294252143072,
          0.22907243528777582,
          0.7778487973537548,
          0.33176647556141137,
          0.7266731557246838,
          -0.7874274447221323,
          -0.909927028201463,
          0.1702809082495588,
          -0.25431143055509897,
          -0.18576183451664863,
          0.6282800921279647,
          0.14727313843416195,
          0.6517845887285626,
          -0.20893727942978055,
          0.3200583988870489,
          -0.8864419304425112,
          -0.8263086802424027,
          -0.9001864773847172,
          -0.6465615511310414,
          -0.7262496430790129,
          0.8636164205303578,
          0.954383745185185
         ]
        }
       ],
       "layout": {
        "height": 800,
        "hovermode": "closest",
        "margin": {
         "b": 20,
         "l": 5,
         "r": 5,
         "t": 40
        },
        "paper_bgcolor": "rgba(0,0,0,0)",
        "plot_bgcolor": "rgba(0,0,0,0)",
        "showlegend": false,
        "template": {
         "data": {
          "candlestick": [
           {
            "decreasing": {
             "line": {
              "color": "#000033"
             }
            },
            "increasing": {
             "line": {
              "color": "#000032"
             }
            },
            "type": "candlestick"
           }
          ],
          "contour": [
           {
            "colorscale": [
             [
              0,
              "#000011"
             ],
             [
              0.1111111111111111,
              "#000012"
             ],
             [
              0.2222222222222222,
              "#000013"
             ],
             [
              0.3333333333333333,
              "#000014"
             ],
             [
              0.4444444444444444,
              "#000015"
             ],
             [
              0.5555555555555556,
              "#000016"
             ],
             [
              0.6666666666666666,
              "#000017"
             ],
             [
              0.7777777777777778,
              "#000018"
             ],
             [
              0.8888888888888888,
              "#000019"
             ],
             [
              1,
              "#000020"
             ]
            ],
            "type": "contour"
           }
          ],
          "contourcarpet": [
           {
            "colorscale": [
             [
              0,
              "#000011"
             ],
             [
              0.1111111111111111,
              "#000012"
             ],
             [
              0.2222222222222222,
              "#000013"
             ],
             [
              0.3333333333333333,
              "#000014"
             ],
             [
              0.4444444444444444,
              "#000015"
             ],
             [
              0.5555555555555556,
              "#000016"
             ],
             [
              0.6666666666666666,
              "#000017"
             ],
             [
              0.7777777777777778,
              "#000018"
             ],
             [
              0.8888888888888888,
              "#000019"
             ],
             [
              1,
              "#000020"
             ]
            ],
            "type": "contourcarpet"
           }
          ],
          "heatmap": [
           {
            "colorscale": [
             [
              0,
              "#000011"
             ],
             [
              0.1111111111111111,
              "#000012"
             ],
             [
              0.2222222222222222,
              "#000013"
             ],
             [
              0.3333333333333333,
              "#000014"
             ],
             [
              0.4444444444444444,
              "#000015"
             ],
             [
              0.5555555555555556,
              "#000016"
             ],
             [
              0.6666666666666666,
              "#000017"
             ],
             [
              0.7777777777777778,
              "#000018"
             ],
             [
              0.8888888888888888,
              "#000019"
             ],
             [
              1,
              "#000020"
             ]
            ],
            "type": "heatmap"
           }
          ],
          "histogram2d": [
           {
            "colorscale": [
             [
              0,
              "#000011"
             ],
             [
              0.1111111111111111,
              "#000012"
             ],
             [
              0.2222222222222222,
              "#000013"
             ],
             [
              0.3333333333333333,
              "#000014"
             ],
             [
              0.4444444444444444,
              "#000015"
             ],
             [
              0.5555555555555556,
              "#000016"
             ],
             [
              0.6666666666666666,
              "#000017"
             ],
             [
              0.7777777777777778,
              "#000018"
             ],
             [
              0.8888888888888888,
              "#000019"
             ],
             [
              1,
              "#000020"
             ]
            ],
            "type": "histogram2d"
           }
          ],
          "icicle": [
           {
            "textfont": {
             "color": "white"
            },
            "type": "icicle"
           }
          ],
          "sankey": [
           {
            "textfont": {
             "color": "#000036"
            },
            "type": "sankey"
           }
          ],
          "scatter": [
           {
            "marker": {
             "line": {
              "width": 0
             }
            },
            "type": "scatter"
           }
          ],
          "table": [
           {
            "cells": {
             "fill": {
              "color": "#000038"
             },
             "font": {
              "color": "#000037"
             },
             "line": {
              "color": "#000039"
             }
            },
            "header": {
             "fill": {
              "color": "#000040"
             },
             "font": {
              "color": "#000036"
             },
             "line": {
              "color": "#000039"
             }
            },
            "type": "table"
           }
          ],
          "waterfall": [
           {
            "connector": {
             "line": {
              "color": "#000036",
              "width": 2
             }
            },
            "decreasing": {
             "marker": {
              "color": "#000033"
             }
            },
            "increasing": {
             "marker": {
              "color": "#000032"
             }
            },
            "totals": {
             "marker": {
              "color": "#000034"
             }
            },
            "type": "waterfall"
           }
          ]
         },
         "layout": {
          "coloraxis": {
           "colorscale": [
            [
             0,
             "#000011"
            ],
            [
             0.1111111111111111,
             "#000012"
            ],
            [
             0.2222222222222222,
             "#000013"
            ],
            [
             0.3333333333333333,
             "#000014"
            ],
            [
             0.4444444444444444,
             "#000015"
            ],
            [
             0.5555555555555556,
             "#000016"
            ],
            [
             0.6666666666666666,
             "#000017"
            ],
            [
             0.7777777777777778,
             "#000018"
            ],
            [
             0.8888888888888888,
             "#000019"
            ],
            [
             1,
             "#000020"
            ]
           ]
          },
          "colorscale": {
           "diverging": [
            [
             0,
             "#000021"
            ],
            [
             0.1,
             "#000022"
            ],
            [
             0.2,
             "#000023"
            ],
            [
             0.3,
             "#000024"
            ],
            [
             0.4,
             "#000025"
            ],
            [
             0.5,
             "#000026"
            ],
            [
             0.6,
             "#000027"
            ],
            [
             0.7,
             "#000028"
            ],
            [
             0.8,
             "#000029"
            ],
            [
             0.9,
             "#000030"
            ],
            [
             1,
             "#000031"
            ]
           ],
           "sequential": [
            [
             0,
             "#000011"
            ],
            [
             0.1111111111111111,
             "#000012"
            ],
            [
             0.2222222222222222,
             "#000013"
            ],
            [
             0.3333333333333333,
             "#000014"
            ],
            [
             0.4444444444444444,
             "#000015"
            ],
            [
             0.5555555555555556,
             "#000016"
            ],
            [
             0.6666666666666666,
             "#000017"
            ],
            [
             0.7777777777777778,
             "#000018"
            ],
            [
             0.8888888888888888,
             "#000019"
            ],
            [
             1,
             "#000020"
            ]
           ],
           "sequentialminus": [
            [
             0,
             "#000011"
            ],
            [
             0.1111111111111111,
             "#000012"
            ],
            [
             0.2222222222222222,
             "#000013"
            ],
            [
             0.3333333333333333,
             "#000014"
            ],
            [
             0.4444444444444444,
             "#000015"
            ],
            [
             0.5555555555555556,
             "#000016"
            ],
            [
             0.6666666666666666,
             "#000017"
            ],
            [
             0.7777777777777778,
             "#000018"
            ],
            [
             0.8888888888888888,
             "#000019"
            ],
            [
             1,
             "#000020"
            ]
           ]
          },
          "colorway": [
           "#000001",
           "#000002",
           "#000003",
           "#000004",
           "#000005",
           "#000006",
           "#000007",
           "#000008",
           "#000009",
           "#000010"
          ]
         }
        },
        "title": {
         "font": {
          "size": 20
         },
         "text": "Interactive Network Graph"
        },
        "updatemenus": [
         {
          "buttons": [
           {
            "args": [
             {
              "visible": [
               true,
               true,
               true,
               false,
               false,
               false,
               false,
               false,
               false,
               false,
               false,
               false,
               false,
               false,
               false,
               false,
               false,
               false,
               false,
               false,
               false,
               false,
               false,
               false,
               false,
               false,
               false,
               false,
               false,
               false,
               false,
               false,
               false,
               false,
               false,
               false,
               false,
               false,
               false,
               false,
               false,
               false,
               false,
               false,
               false,
               false,
               false,
               false,
               true
              ]
             }
            ],
            "label": "Brain Metastasis",
            "method": "update"
           },
           {
            "args": [
             {
              "visible": [
               false,
               false,
               false,
               false,
               false,
               false,
               false,
               false,
               false,
               false,
               false,
               false,
               false,
               false,
               false,
               false,
               false,
               false,
               false,
               false,
               false,
               false,
               false,
               false,
               false,
               false,
               false,
               true,
               true,
               true,
               false,
               false,
               false,
               false,
               false,
               false,
               false,
               false,
               false,
               false,
               false,
               false,
               false,
               false,
               false,
               false,
               false,
               false,
               true
              ]
             }
            ],
            "label": "Breast Cancer",
            "method": "update"
           },
           {
            "args": [
             {
              "visible": [
               false,
               false,
               false,
               false,
               false,
               false,
               false,
               false,
               false,
               false,
               false,
               false,
               false,
               false,
               false,
               false,
               false,
               false,
               false,
               false,
               false,
               false,
               false,
               false,
               false,
               false,
               false,
               false,
               false,
               false,
               false,
               false,
               false,
               false,
               false,
               false,
               false,
               false,
               false,
               false,
               true,
               false,
               false,
               false,
               false,
               false,
               false,
               false,
               true
              ]
             }
            ],
            "label": "CGP",
            "method": "update"
           },
           {
            "args": [
             {
              "visible": [
               false,
               false,
               false,
               false,
               false,
               false,
               false,
               false,
               false,
               false,
               false,
               false,
               false,
               false,
               false,
               false,
               false,
               false,
               false,
               false,
               false,
               false,
               false,
               false,
               false,
               false,
               false,
               false,
               false,
               false,
               false,
               false,
               false,
               false,
               false,
               false,
               false,
               false,
               false,
               false,
               false,
               false,
               false,
               false,
               false,
               false,
               false,
               true,
               true
              ]
             }
            ],
            "label": "CIPN",
            "method": "update"
           },
           {
            "args": [
             {
              "visible": [
               false,
               false,
               false,
               false,
               false,
               false,
               false,
               false,
               false,
               false,
               false,
               false,
               false,
               false,
               false,
               false,
               false,
               false,
               false,
               false,
               false,
               false,
               false,
               false,
               false,
               false,
               false,
               false,
               false,
               false,
               false,
               false,
               false,
               false,
               false,
               false,
               false,
               false,
               false,
               false,
               false,
               false,
               true,
               false,
               false,
               false,
               false,
               false,
               true
              ]
             }
            ],
            "label": "Cancer Survivors",
            "method": "update"
           },
           {
            "args": [
             {
              "visible": [
               false,
               false,
               false,
               false,
               false,
               false,
               false,
               false,
               false,
               false,
               false,
               false,
               false,
               false,
               false,
               false,
               false,
               false,
               false,
               false,
               false,
               false,
               false,
               false,
               false,
               false,
               false,
               false,
               false,
               false,
               false,
               true,
               false,
               false,
               false,
               false,
               false,
               false,
               false,
               false,
               false,
               false,
               false,
               false,
               false,
               false,
               false,
               false,
               true
              ]
             }
            ],
            "label": "Cellular Senescence",
            "method": "update"
           },
           {
            "args": [
             {
              "visible": [
               false,
               false,
               false,
               false,
               false,
               false,
               true,
               true,
               false,
               false,
               false,
               false,
               false,
               false,
               false,
               false,
               false,
               false,
               false,
               false,
               false,
               false,
               false,
               false,
               false,
               false,
               false,
               false,
               false,
               false,
               false,
               false,
               false,
               false,
               false,
               false,
               false,
               false,
               false,
               false,
               false,
               false,
               false,
               false,
               false,
               false,
               false,
               false,
               true
              ]
             }
            ],
            "label": "DIBH",
            "method": "update"
           },
           {
            "args": [
             {
              "visible": [
               false,
               false,
               false,
               false,
               false,
               false,
               false,
               false,
               true,
               false,
               false,
               false,
               false,
               false,
               false,
               false,
               false,
               false,
               false,
               false,
               false,
               false,
               false,
               false,
               false,
               false,
               false,
               false,
               false,
               false,
               false,
               false,
               false,
               false,
               false,
               false,
               false,
               false,
               false,
               false,
               false,
               false,
               false,
               false,
               false,
               false,
               false,
               false,
               true
              ]
             }
            ],
            "label": "Dosimetry",
            "method": "update"
           },
           {
            "args": [
             {
              "visible": [
               false,
               false,
               false,
               false,
               false,
               false,
               false,
               false,
               false,
               false,
               false,
               false,
               false,
               false,
               false,
               false,
               false,
               false,
               false,
               false,
               false,
               false,
               false,
               true,
               true,
               false,
               false,
               false,
               false,
               false,
               false,
               false,
               false,
               false,
               false,
               false,
               false,
               false,
               false,
               false,
               false,
               false,
               false,
               false,
               false,
               false,
               false,
               false,
               true
              ]
             }
            ],
            "label": "FASN",
            "method": "update"
           },
           {
            "args": [
             {
              "visible": [
               false,
               false,
               false,
               false,
               false,
               false,
               false,
               false,
               false,
               false,
               false,
               false,
               false,
               false,
               false,
               false,
               false,
               false,
               false,
               false,
               false,
               false,
               false,
               false,
               false,
               false,
               false,
               false,
               false,
               false,
               true,
               false,
               false,
               false,
               false,
               false,
               false,
               false,
               false,
               false,
               false,
               false,
               false,
               false,
               false,
               false,
               false,
               false,
               true
              ]
             }
            ],
            "label": "Fibroblasts",
            "method": "update"
           },
           {
            "args": [
             {
              "visible": [
               false,
               false,
               false,
               false,
               false,
               false,
               false,
               false,
               false,
               false,
               false,
               false,
               false,
               false,
               false,
               false,
               false,
               false,
               false,
               false,
               false,
               false,
               false,
               false,
               false,
               false,
               false,
               false,
               false,
               false,
               false,
               false,
               false,
               false,
               false,
               false,
               false,
               false,
               false,
               false,
               false,
               false,
               false,
               false,
               false,
               true,
               false,
               false,
               true
              ]
             }
            ],
            "label": "GIST",
            "method": "update"
           },
           {
            "args": [
             {
              "visible": [
               false,
               false,
               false,
               false,
               false,
               false,
               false,
               false,
               false,
               false,
               false,
               false,
               false,
               false,
               false,
               false,
               false,
               false,
               false,
               false,
               false,
               false,
               false,
               false,
               false,
               false,
               false,
               false,
               false,
               false,
               false,
               false,
               false,
               false,
               true,
               true,
               false,
               false,
               false,
               false,
               false,
               false,
               false,
               false,
               false,
               false,
               false,
               false,
               true
              ]
             }
            ],
            "label": "HCC",
            "method": "update"
           },
           {
            "args": [
             {
              "visible": [
               false,
               false,
               false,
               false,
               false,
               false,
               false,
               false,
               false,
               false,
               false,
               false,
               false,
               false,
               false,
               false,
               false,
               true,
               true,
               false,
               false,
               false,
               false,
               false,
               false,
               false,
               false,
               false,
               false,
               false,
               false,
               false,
               false,
               false,
               false,
               false,
               false,
               false,
               false,
               false,
               false,
               false,
               false,
               false,
               false,
               false,
               false,
               false,
               true
              ]
             }
            ],
            "label": "HRQoL",
            "method": "update"
           },
           {
            "args": [
             {
              "visible": [
               false,
               false,
               false,
               false,
               false,
               true,
               false,
               false,
               false,
               false,
               false,
               false,
               false,
               false,
               false,
               false,
               false,
               false,
               false,
               false,
               false,
               false,
               false,
               false,
               false,
               false,
               false,
               false,
               false,
               false,
               false,
               false,
               false,
               false,
               false,
               false,
               false,
               false,
               false,
               false,
               false,
               false,
               false,
               false,
               false,
               false,
               false,
               false,
               true
              ]
             }
            ],
            "label": "Left-sided Breast Cancer",
            "method": "update"
           },
           {
            "args": [
             {
              "visible": [
               false,
               false,
               false,
               false,
               false,
               false,
               false,
               false,
               false,
               false,
               false,
               false,
               false,
               false,
               false,
               false,
               false,
               false,
               false,
               false,
               false,
               false,
               false,
               false,
               false,
               true,
               true,
               false,
               false,
               false,
               false,
               false,
               false,
               false,
               false,
               false,
               false,
               false,
               false,
               false,
               false,
               false,
               false,
               false,
               false,
               false,
               false,
               false,
               true
              ]
             }
            ],
            "label": "Lipoedema",
            "method": "update"
           },
           {
            "args": [
             {
              "visible": [
               false,
               false,
               false,
               false,
               false,
               false,
               false,
               false,
               false,
               false,
               false,
               false,
               false,
               false,
               false,
               false,
               false,
               false,
               false,
               false,
               false,
               false,
               false,
               false,
               false,
               false,
               false,
               false,
               false,
               false,
               false,
               false,
               false,
               false,
               false,
               false,
               false,
               false,
               false,
               false,
               false,
               false,
               false,
               false,
               true,
               false,
               false,
               false,
               true
              ]
             }
            ],
            "label": "MOST Trials",
            "method": "update"
           },
           {
            "args": [
             {
              "visible": [
               false,
               false,
               false,
               false,
               false,
               false,
               false,
               false,
               false,
               false,
               false,
               false,
               false,
               false,
               false,
               false,
               false,
               false,
               false,
               false,
               false,
               false,
               true,
               false,
               false,
               false,
               false,
               false,
               false,
               false,
               false,
               false,
               false,
               false,
               false,
               false,
               false,
               false,
               false,
               false,
               false,
               false,
               false,
               false,
               false,
               false,
               false,
               false,
               true
              ]
             }
            ],
            "label": "Machine Learning",
            "method": "update"
           },
           {
            "args": [
             {
              "visible": [
               false,
               false,
               false,
               false,
               false,
               false,
               false,
               false,
               false,
               false,
               false,
               false,
               false,
               false,
               false,
               false,
               false,
               false,
               false,
               false,
               false,
               false,
               false,
               false,
               false,
               false,
               false,
               false,
               false,
               false,
               false,
               false,
               false,
               false,
               false,
               false,
               false,
               false,
               false,
               true,
               false,
               false,
               false,
               false,
               false,
               false,
               false,
               false,
               true
              ]
             }
            ],
            "label": "Methylphenidate",
            "method": "update"
           },
           {
            "args": [
             {
              "visible": [
               false,
               false,
               false,
               false,
               false,
               false,
               false,
               false,
               false,
               false,
               false,
               true,
               true,
               true,
               true,
               false,
               false,
               false,
               false,
               false,
               false,
               false,
               false,
               false,
               false,
               false,
               false,
               false,
               false,
               false,
               false,
               false,
               false,
               false,
               false,
               false,
               false,
               false,
               false,
               false,
               false,
               false,
               false,
               false,
               false,
               false,
               false,
               false,
               true
              ]
             }
            ],
            "label": "NSCLC",
            "method": "update"
           },
           {
            "args": [
             {
              "visible": [
               false,
               false,
               false,
               false,
               false,
               false,
               false,
               false,
               false,
               false,
               false,
               false,
               false,
               false,
               false,
               false,
               false,
               false,
               false,
               false,
               false,
               false,
               false,
               false,
               false,
               false,
               false,
               false,
               false,
               false,
               false,
               false,
               false,
               false,
               false,
               false,
               false,
               true,
               false,
               false,
               false,
               false,
               false,
               false,
               false,
               false,
               false,
               false,
               true
              ]
             }
            ],
            "label": "Older Breast Cancer Patients",
            "method": "update"
           },
           {
            "args": [
             {
              "visible": [
               false,
               false,
               false,
               false,
               false,
               false,
               false,
               false,
               false,
               false,
               false,
               false,
               false,
               false,
               false,
               false,
               false,
               false,
               false,
               false,
               false,
               false,
               false,
               false,
               false,
               false,
               false,
               false,
               false,
               false,
               false,
               false,
               false,
               false,
               false,
               false,
               false,
               false,
               true,
               false,
               false,
               false,
               false,
               false,
               false,
               false,
               false,
               false,
               true
              ]
             }
            ],
            "label": "PCM4EU and PRIME-ROSE",
            "method": "update"
           },
           {
            "args": [
             {
              "visible": [
               false,
               false,
               false,
               false,
               false,
               false,
               false,
               false,
               false,
               true,
               true,
               false,
               false,
               false,
               false,
               false,
               false,
               false,
               false,
               false,
               false,
               false,
               false,
               false,
               false,
               false,
               false,
               false,
               false,
               false,
               false,
               false,
               false,
               false,
               false,
               false,
               false,
               false,
               false,
               false,
               false,
               false,
               false,
               false,
               false,
               false,
               false,
               false,
               true
              ]
             }
            ],
            "label": "PDIP-AAA",
            "method": "update"
           },
           {
            "args": [
             {
              "visible": [
               false,
               false,
               false,
               false,
               false,
               false,
               false,
               false,
               false,
               false,
               false,
               false,
               false,
               false,
               false,
               false,
               false,
               false,
               false,
               false,
               false,
               false,
               false,
               false,
               false,
               false,
               false,
               false,
               false,
               false,
               false,
               false,
               true,
               false,
               false,
               false,
               false,
               false,
               false,
               false,
               false,
               false,
               false,
               false,
               false,
               false,
               false,
               false,
               true
              ]
             }
            ],
            "label": "Pancreatic Cancer",
            "method": "update"
           },
           {
            "args": [
             {
              "visible": [
               false,
               false,
               false,
               false,
               false,
               false,
               false,
               false,
               false,
               false,
               false,
               false,
               false,
               false,
               false,
               false,
               false,
               false,
               false,
               false,
               false,
               false,
               false,
               false,
               false,
               false,
               false,
               false,
               false,
               false,
               false,
               false,
               false,
               false,
               false,
               false,
               false,
               false,
               false,
               false,
               false,
               false,
               false,
               false,
               false,
               false,
               true,
               false,
               true
              ]
             }
            ],
            "label": "Parent Psychological Distress",
            "method": "update"
           },
           {
            "args": [
             {
              "visible": [
               false,
               false,
               false,
               false,
               false,
               false,
               false,
               false,
               false,
               false,
               false,
               false,
               false,
               false,
               false,
               false,
               false,
               false,
               false,
               false,
               false,
               false,
               false,
               false,
               false,
               false,
               false,
               false,
               false,
               false,
               false,
               false,
               false,
               false,
               false,
               false,
               false,
               false,
               false,
               false,
               false,
               true,
               false,
               false,
               false,
               false,
               false,
               false,
               true
              ]
             }
            ],
            "label": "Prostate Cancer",
            "method": "update"
           },
           {
            "args": [
             {
              "visible": [
               false,
               false,
               false,
               false,
               false,
               false,
               false,
               false,
               false,
               false,
               false,
               false,
               false,
               false,
               false,
               false,
               false,
               false,
               false,
               false,
               false,
               false,
               false,
               false,
               false,
               false,
               false,
               false,
               false,
               false,
               false,
               false,
               false,
               false,
               false,
               false,
               true,
               false,
               false,
               false,
               false,
               false,
               false,
               false,
               false,
               false,
               false,
               false,
               true
              ]
             }
            ],
            "label": "Psychosocial Interventions",
            "method": "update"
           },
           {
            "args": [
             {
              "visible": [
               false,
               false,
               false,
               false,
               false,
               false,
               false,
               false,
               false,
               false,
               false,
               false,
               false,
               false,
               false,
               false,
               false,
               false,
               false,
               false,
               false,
               true,
               false,
               false,
               false,
               false,
               false,
               false,
               false,
               false,
               false,
               false,
               false,
               false,
               false,
               false,
               false,
               false,
               false,
               false,
               false,
               false,
               false,
               false,
               false,
               false,
               false,
               false,
               true
              ]
             }
            ],
            "label": "Radiomics",
            "method": "update"
           },
           {
            "args": [
             {
              "visible": [
               false,
               false,
               false,
               true,
               true,
               false,
               false,
               false,
               false,
               false,
               false,
               false,
               false,
               false,
               false,
               false,
               false,
               false,
               false,
               false,
               false,
               false,
               false,
               false,
               false,
               false,
               false,
               false,
               false,
               false,
               false,
               false,
               false,
               false,
               false,
               false,
               false,
               false,
               false,
               false,
               false,
               false,
               false,
               false,
               false,
               false,
               false,
               false,
               true
              ]
             }
            ],
            "label": "Radiotherapy",
            "method": "update"
           },
           {
            "args": [
             {
              "visible": [
               false,
               false,
               false,
               false,
               false,
               false,
               false,
               false,
               false,
               false,
               false,
               false,
               false,
               false,
               false,
               false,
               false,
               false,
               false,
               false,
               false,
               false,
               false,
               false,
               false,
               false,
               false,
               false,
               false,
               false,
               false,
               false,
               false,
               true,
               false,
               false,
               false,
               false,
               false,
               false,
               false,
               false,
               false,
               false,
               false,
               false,
               false,
               false,
               true
              ]
             }
            ],
            "label": "SCP",
            "method": "update"
           },
           {
            "args": [
             {
              "visible": [
               false,
               false,
               false,
               false,
               false,
               false,
               false,
               false,
               false,
               false,
               false,
               false,
               false,
               false,
               false,
               false,
               false,
               false,
               false,
               false,
               false,
               false,
               false,
               false,
               false,
               false,
               false,
               false,
               false,
               false,
               false,
               false,
               false,
               false,
               false,
               false,
               false,
               false,
               false,
               false,
               false,
               false,
               false,
               true,
               false,
               false,
               false,
               false,
               true
              ]
             }
            ],
            "label": "SMNs",
            "method": "update"
           },
           {
            "args": [
             {
              "visible": [
               false,
               false,
               false,
               false,
               false,
               false,
               false,
               false,
               false,
               false,
               false,
               false,
               false,
               false,
               false,
               true,
               true,
               false,
               false,
               false,
               false,
               false,
               false,
               false,
               false,
               false,
               false,
               false,
               false,
               false,
               false,
               false,
               false,
               false,
               false,
               false,
               false,
               false,
               false,
               false,
               false,
               false,
               false,
               false,
               false,
               false,
               false,
               false,
               true
              ]
             }
            ],
            "label": "TASK-3 Channel",
            "method": "update"
           },
           {
            "args": [
             {
              "visible": [
               false,
               false,
               false,
               false,
               false,
               false,
               false,
               false,
               false,
               false,
               false,
               false,
               false,
               false,
               false,
               false,
               false,
               false,
               false,
               true,
               true,
               false,
               false,
               false,
               false,
               false,
               false,
               false,
               false,
               false,
               false,
               false,
               false,
               false,
               false,
               false,
               false,
               false,
               false,
               false,
               false,
               false,
               false,
               false,
               false,
               false,
               false,
               false,
               true
              ]
             }
            ],
            "label": "TyG Index",
            "method": "update"
           }
          ],
          "showactive": true,
          "type": "dropdown"
         }
        ],
        "width": 800,
        "xaxis": {
         "showgrid": false,
         "visible": false,
         "zeroline": false
        },
        "yaxis": {
         "showgrid": false,
         "visible": false,
         "zeroline": false
        }
       }
      }
     },
     "metadata": {},
     "output_type": "display_data"
    }
   ],
   "source": [
    "import pandas as pd\n",
    "import networkx as nx\n",
    "import plotly.graph_objs as go\n",
    "import matplotlib.colors as mcolors\n",
    "import itertools\n",
    "\n",
    "G = nx.DiGraph()\n",
    "\n",
    "for index, row in df.iterrows():\n",
    "    G.add_node(row['Main Topic'], type='Main Topic')\n",
    "    G.add_node(row['Subtopic'], type='Subtopic')\n",
    "    G.add_edge(row['Main Topic'], row['Subtopic'])\n",
    "\n",
    "pos = nx.spring_layout(G, iterations=100, k=1)\n",
    "\n",
    "colors = itertools.cycle(mcolors.CSS4_COLORS)\n",
    "node_colors = {}\n",
    "\n",
    "for component in nx.weakly_connected_components(G):\n",
    "    color = next(colors)\n",
    "    for node in component:\n",
    "        node_colors[node] = color\n",
    "\n",
    "# Create node traces for Plotly\n",
    "node_trace = go.Scatter(\n",
    "    x=[],\n",
    "    y=[],\n",
    "    text=[],\n",
    "    mode='markers',\n",
    "    hoverinfo='text',\n",
    "    marker=dict(\n",
    "        showscale=False,\n",
    "        size=[], \n",
    "        color=[], \n",
    "        opacity=0.9,\n",
    "        line=dict(width=3, color='rgba(0, 0, 0, 0.5)'),\n",
    "        symbol='circle',\n",
    "    ))\n",
    "\n",
    "# Add the nodes and their positions to the node_trace\n",
    "for node in G.nodes():\n",
    "    x, y = pos[node]\n",
    "    node_trace['x'] += (x,)\n",
    "    node_trace['y'] += (y,)\n",
    "    \n",
    "    if G.nodes[node]['type'] == 'Main Topic':\n",
    "        subtopics = [f\"{i+1}. {n}\" for i, n in enumerate(G.neighbors(node))]\n",
    "        hover_text = f\"{node}<br>Subtopics:<br>\" + \"<br>\".join(subtopics)\n",
    "        node_trace['text'] += (hover_text,)\n",
    "    else:\n",
    "        node_trace['text'] += ('',)\n",
    "    \n",
    "    node_size = 30 if G.nodes[node]['type'] == 'Main Topic' else 20\n",
    "    node_trace['marker']['size'] += (node_size,)\n",
    "    \n",
    "    node_color = mcolors.to_rgba(node_colors[node], alpha=0.9)\n",
    "    node_trace['marker']['color'] += (f\"rgba({int(node_color[0]*255)}, {int(node_color[1]*255)}, {int(node_color[2]*255)}, 0.9)\",)\n",
    "\n",
    "# Pre-create edge traces, initially invisible, and use the color of the main topic\n",
    "edge_traces = []\n",
    "for edge in G.edges():\n",
    "    main_topic = edge[0]  # The main topic is the source node of the edge\n",
    "    color = mcolors.to_rgba(node_colors[main_topic], alpha=0.9)\n",
    "    \n",
    "    x0, y0 = pos[edge[0]]\n",
    "    x1, y1 = pos[edge[1]]\n",
    "    edge_traces.append(go.Scatter(\n",
    "        x=[x0, x1, None],\n",
    "        y=[y0, y1, None],\n",
    "        line=dict(width=2, color=f'rgba({int(color[0]*255)}, {int(color[1]*255)}, {int(color[2]*255)}, {color[3]})'),\n",
    "        hoverinfo='none',\n",
    "        mode='lines',\n",
    "        visible=False\n",
    "    ))\n",
    "\n",
    "# Create buttons for dropdown menu\n",
    "buttons = []\n",
    "main_topics = sorted([node for node in G.nodes() if G.nodes[node]['type'] == 'Main Topic'])\n",
    "\n",
    "for node in main_topics:\n",
    "    node_edges = [i for i, edge in enumerate(G.edges()) if edge[0] == node]\n",
    "    button = dict(\n",
    "        label=node,\n",
    "        method='update',\n",
    "        args=[{\n",
    "            'visible': [False] * len(edge_traces) + [True],\n",
    "        }]\n",
    "    )\n",
    "    for i in node_edges:\n",
    "        button['args'][0]['visible'][i] = True  # Make the relevant edges visible\n",
    "        edge_traces[i]['line']['width'] = 6  # Make the edge bold\n",
    "    buttons.append(button)\n",
    "\n",
    "# Create and display the figure\n",
    "fig = go.Figure(data=edge_traces + [node_trace],\n",
    "                layout=go.Layout(\n",
    "                    title='Interactive Network Graph',\n",
    "                    titlefont_size=20,\n",
    "                    showlegend=False,\n",
    "                    hovermode='closest',\n",
    "                    margin=dict(b=20, l=5, r=5, t=40),\n",
    "                    xaxis=dict(showgrid=False, zeroline=False, visible=False), \n",
    "                    yaxis=dict(showgrid=False, zeroline=False, visible=False),\n",
    "                    paper_bgcolor='rgba(0,0,0,0)',\n",
    "                    plot_bgcolor='rgba(0,0,0,0)',\n",
    "                    width=800,\n",
    "                    height=800,\n",
    "                    updatemenus=[{\n",
    "                        'type': 'dropdown',\n",
    "                        'showactive': True,\n",
    "                        'buttons': buttons,\n",
    "                    }]\n",
    "                ))\n",
    "\n",
    "fig.show()\n"
   ]
  }
 ],
 "metadata": {
  "kernelspec": {
   "display_name": "Python 3",
   "language": "python",
   "name": "python3"
  },
  "language_info": {
   "codemirror_mode": {
    "name": "ipython",
    "version": 3
   },
   "file_extension": ".py",
   "mimetype": "text/x-python",
   "name": "python",
   "nbconvert_exporter": "python",
   "pygments_lexer": "ipython3",
   "version": "3.12.1"
  }
 },
 "nbformat": 4,
 "nbformat_minor": 2
}
